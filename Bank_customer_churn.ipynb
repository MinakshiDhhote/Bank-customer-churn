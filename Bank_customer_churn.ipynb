{
  "cells": [
    {
      "cell_type": "markdown",
      "id": "30ca896e",
      "metadata": {
        "id": "30ca896e"
      },
      "source": [
        "# BANK CUSTOMER CHURN PREDICTION\n",
        "DATA: https://www.kaggle.com/mathchi/churn-for-bank-customers"
      ]
    },
    {
      "cell_type": "code",
      "execution_count": 3,
      "id": "cf0144a6",
      "metadata": {
        "id": "cf0144a6"
      },
      "outputs": [],
      "source": [
        "#load necccessary libraries\n",
        "\n",
        "import pandas as pd\n",
        "import numpy as np\n",
        "import warnings\n",
        "warnings.filterwarnings('ignore')"
      ]
    },
    {
      "cell_type": "code",
      "execution_count": 4,
      "id": "30653272",
      "metadata": {
        "id": "30653272"
      },
      "outputs": [],
      "source": [
        "#load dataset\n",
        "churn = pd.read_csv('churn.csv')\n",
        "data = churn.copy()"
      ]
    },
    {
      "cell_type": "code",
      "execution_count": 5,
      "id": "73Ctlli7PoLc",
      "metadata": {
        "colab": {
          "base_uri": "https://localhost:8080/"
        },
        "id": "73Ctlli7PoLc",
        "outputId": "b9da8ce1-e958-4f88-c0ba-ddbec46ed5ce"
      },
      "outputs": [
        {
          "output_type": "execute_result",
          "data": {
            "text/plain": [
              "(10000, 14)"
            ]
          },
          "metadata": {},
          "execution_count": 5
        }
      ],
      "source": [
        "#check size of the observation and variable\n",
        "data.shape"
      ]
    },
    {
      "cell_type": "code",
      "execution_count": 6,
      "id": "365118c4",
      "metadata": {
        "colab": {
          "base_uri": "https://localhost:8080/",
          "height": 206
        },
        "id": "365118c4",
        "outputId": "d2ea6cae-17b9-4e3e-a903-2d33a43fd836"
      },
      "outputs": [
        {
          "output_type": "execute_result",
          "data": {
            "text/plain": [
              "   RowNumber  CustomerId   Surname  CreditScore Geography  Gender  Age  \\\n",
              "0          1    15634602  Hargrave          619    France  Female   42   \n",
              "1          2    15647311      Hill          608     Spain  Female   41   \n",
              "2          3    15619304      Onio          502    France  Female   42   \n",
              "3          4    15701354      Boni          699    France  Female   39   \n",
              "4          5    15737888  Mitchell          850     Spain  Female   43   \n",
              "\n",
              "   Tenure    Balance  NumOfProducts  HasCrCard  IsActiveMember  \\\n",
              "0       2       0.00              1          1               1   \n",
              "1       1   83807.86              1          0               1   \n",
              "2       8  159660.80              3          1               0   \n",
              "3       1       0.00              2          0               0   \n",
              "4       2  125510.82              1          1               1   \n",
              "\n",
              "   EstimatedSalary  Exited  \n",
              "0        101348.88       1  \n",
              "1        112542.58       0  \n",
              "2        113931.57       1  \n",
              "3         93826.63       0  \n",
              "4         79084.10       0  "
            ],
            "text/html": [
              "\n",
              "  <div id=\"df-b9eab313-7ceb-4a24-a483-0422f4fdbdc9\">\n",
              "    <div class=\"colab-df-container\">\n",
              "      <div>\n",
              "<style scoped>\n",
              "    .dataframe tbody tr th:only-of-type {\n",
              "        vertical-align: middle;\n",
              "    }\n",
              "\n",
              "    .dataframe tbody tr th {\n",
              "        vertical-align: top;\n",
              "    }\n",
              "\n",
              "    .dataframe thead th {\n",
              "        text-align: right;\n",
              "    }\n",
              "</style>\n",
              "<table border=\"1\" class=\"dataframe\">\n",
              "  <thead>\n",
              "    <tr style=\"text-align: right;\">\n",
              "      <th></th>\n",
              "      <th>RowNumber</th>\n",
              "      <th>CustomerId</th>\n",
              "      <th>Surname</th>\n",
              "      <th>CreditScore</th>\n",
              "      <th>Geography</th>\n",
              "      <th>Gender</th>\n",
              "      <th>Age</th>\n",
              "      <th>Tenure</th>\n",
              "      <th>Balance</th>\n",
              "      <th>NumOfProducts</th>\n",
              "      <th>HasCrCard</th>\n",
              "      <th>IsActiveMember</th>\n",
              "      <th>EstimatedSalary</th>\n",
              "      <th>Exited</th>\n",
              "    </tr>\n",
              "  </thead>\n",
              "  <tbody>\n",
              "    <tr>\n",
              "      <th>0</th>\n",
              "      <td>1</td>\n",
              "      <td>15634602</td>\n",
              "      <td>Hargrave</td>\n",
              "      <td>619</td>\n",
              "      <td>France</td>\n",
              "      <td>Female</td>\n",
              "      <td>42</td>\n",
              "      <td>2</td>\n",
              "      <td>0.00</td>\n",
              "      <td>1</td>\n",
              "      <td>1</td>\n",
              "      <td>1</td>\n",
              "      <td>101348.88</td>\n",
              "      <td>1</td>\n",
              "    </tr>\n",
              "    <tr>\n",
              "      <th>1</th>\n",
              "      <td>2</td>\n",
              "      <td>15647311</td>\n",
              "      <td>Hill</td>\n",
              "      <td>608</td>\n",
              "      <td>Spain</td>\n",
              "      <td>Female</td>\n",
              "      <td>41</td>\n",
              "      <td>1</td>\n",
              "      <td>83807.86</td>\n",
              "      <td>1</td>\n",
              "      <td>0</td>\n",
              "      <td>1</td>\n",
              "      <td>112542.58</td>\n",
              "      <td>0</td>\n",
              "    </tr>\n",
              "    <tr>\n",
              "      <th>2</th>\n",
              "      <td>3</td>\n",
              "      <td>15619304</td>\n",
              "      <td>Onio</td>\n",
              "      <td>502</td>\n",
              "      <td>France</td>\n",
              "      <td>Female</td>\n",
              "      <td>42</td>\n",
              "      <td>8</td>\n",
              "      <td>159660.80</td>\n",
              "      <td>3</td>\n",
              "      <td>1</td>\n",
              "      <td>0</td>\n",
              "      <td>113931.57</td>\n",
              "      <td>1</td>\n",
              "    </tr>\n",
              "    <tr>\n",
              "      <th>3</th>\n",
              "      <td>4</td>\n",
              "      <td>15701354</td>\n",
              "      <td>Boni</td>\n",
              "      <td>699</td>\n",
              "      <td>France</td>\n",
              "      <td>Female</td>\n",
              "      <td>39</td>\n",
              "      <td>1</td>\n",
              "      <td>0.00</td>\n",
              "      <td>2</td>\n",
              "      <td>0</td>\n",
              "      <td>0</td>\n",
              "      <td>93826.63</td>\n",
              "      <td>0</td>\n",
              "    </tr>\n",
              "    <tr>\n",
              "      <th>4</th>\n",
              "      <td>5</td>\n",
              "      <td>15737888</td>\n",
              "      <td>Mitchell</td>\n",
              "      <td>850</td>\n",
              "      <td>Spain</td>\n",
              "      <td>Female</td>\n",
              "      <td>43</td>\n",
              "      <td>2</td>\n",
              "      <td>125510.82</td>\n",
              "      <td>1</td>\n",
              "      <td>1</td>\n",
              "      <td>1</td>\n",
              "      <td>79084.10</td>\n",
              "      <td>0</td>\n",
              "    </tr>\n",
              "  </tbody>\n",
              "</table>\n",
              "</div>\n",
              "      <button class=\"colab-df-convert\" onclick=\"convertToInteractive('df-b9eab313-7ceb-4a24-a483-0422f4fdbdc9')\"\n",
              "              title=\"Convert this dataframe to an interactive table.\"\n",
              "              style=\"display:none;\">\n",
              "        \n",
              "  <svg xmlns=\"http://www.w3.org/2000/svg\" height=\"24px\"viewBox=\"0 0 24 24\"\n",
              "       width=\"24px\">\n",
              "    <path d=\"M0 0h24v24H0V0z\" fill=\"none\"/>\n",
              "    <path d=\"M18.56 5.44l.94 2.06.94-2.06 2.06-.94-2.06-.94-.94-2.06-.94 2.06-2.06.94zm-11 1L8.5 8.5l.94-2.06 2.06-.94-2.06-.94L8.5 2.5l-.94 2.06-2.06.94zm10 10l.94 2.06.94-2.06 2.06-.94-2.06-.94-.94-2.06-.94 2.06-2.06.94z\"/><path d=\"M17.41 7.96l-1.37-1.37c-.4-.4-.92-.59-1.43-.59-.52 0-1.04.2-1.43.59L10.3 9.45l-7.72 7.72c-.78.78-.78 2.05 0 2.83L4 21.41c.39.39.9.59 1.41.59.51 0 1.02-.2 1.41-.59l7.78-7.78 2.81-2.81c.8-.78.8-2.07 0-2.86zM5.41 20L4 18.59l7.72-7.72 1.47 1.35L5.41 20z\"/>\n",
              "  </svg>\n",
              "      </button>\n",
              "      \n",
              "  <style>\n",
              "    .colab-df-container {\n",
              "      display:flex;\n",
              "      flex-wrap:wrap;\n",
              "      gap: 12px;\n",
              "    }\n",
              "\n",
              "    .colab-df-convert {\n",
              "      background-color: #E8F0FE;\n",
              "      border: none;\n",
              "      border-radius: 50%;\n",
              "      cursor: pointer;\n",
              "      display: none;\n",
              "      fill: #1967D2;\n",
              "      height: 32px;\n",
              "      padding: 0 0 0 0;\n",
              "      width: 32px;\n",
              "    }\n",
              "\n",
              "    .colab-df-convert:hover {\n",
              "      background-color: #E2EBFA;\n",
              "      box-shadow: 0px 1px 2px rgba(60, 64, 67, 0.3), 0px 1px 3px 1px rgba(60, 64, 67, 0.15);\n",
              "      fill: #174EA6;\n",
              "    }\n",
              "\n",
              "    [theme=dark] .colab-df-convert {\n",
              "      background-color: #3B4455;\n",
              "      fill: #D2E3FC;\n",
              "    }\n",
              "\n",
              "    [theme=dark] .colab-df-convert:hover {\n",
              "      background-color: #434B5C;\n",
              "      box-shadow: 0px 1px 3px 1px rgba(0, 0, 0, 0.15);\n",
              "      filter: drop-shadow(0px 1px 2px rgba(0, 0, 0, 0.3));\n",
              "      fill: #FFFFFF;\n",
              "    }\n",
              "  </style>\n",
              "\n",
              "      <script>\n",
              "        const buttonEl =\n",
              "          document.querySelector('#df-b9eab313-7ceb-4a24-a483-0422f4fdbdc9 button.colab-df-convert');\n",
              "        buttonEl.style.display =\n",
              "          google.colab.kernel.accessAllowed ? 'block' : 'none';\n",
              "\n",
              "        async function convertToInteractive(key) {\n",
              "          const element = document.querySelector('#df-b9eab313-7ceb-4a24-a483-0422f4fdbdc9');\n",
              "          const dataTable =\n",
              "            await google.colab.kernel.invokeFunction('convertToInteractive',\n",
              "                                                     [key], {});\n",
              "          if (!dataTable) return;\n",
              "\n",
              "          const docLinkHtml = 'Like what you see? Visit the ' +\n",
              "            '<a target=\"_blank\" href=https://colab.research.google.com/notebooks/data_table.ipynb>data table notebook</a>'\n",
              "            + ' to learn more about interactive tables.';\n",
              "          element.innerHTML = '';\n",
              "          dataTable['output_type'] = 'display_data';\n",
              "          await google.colab.output.renderOutput(dataTable, element);\n",
              "          const docLink = document.createElement('div');\n",
              "          docLink.innerHTML = docLinkHtml;\n",
              "          element.appendChild(docLink);\n",
              "        }\n",
              "      </script>\n",
              "    </div>\n",
              "  </div>\n",
              "  "
            ]
          },
          "metadata": {},
          "execution_count": 6
        }
      ],
      "source": [
        "#load the first 5 rows of data in the dataset\n",
        "data.head()"
      ]
    },
    {
      "cell_type": "code",
      "execution_count": 7,
      "id": "c83c1202",
      "metadata": {
        "colab": {
          "base_uri": "https://localhost:8080/"
        },
        "id": "c83c1202",
        "outputId": "dc14ee2d-7cac-42b7-dd89-9662ab6764d3"
      },
      "outputs": [
        {
          "output_type": "execute_result",
          "data": {
            "text/plain": [
              "Index(['RowNumber', 'CustomerId', 'Surname', 'CreditScore', 'Geography',\n",
              "       'Gender', 'Age', 'Tenure', 'Balance', 'NumOfProducts', 'HasCrCard',\n",
              "       'IsActiveMember', 'EstimatedSalary', 'Exited'],\n",
              "      dtype='object')"
            ]
          },
          "metadata": {},
          "execution_count": 7
        }
      ],
      "source": [
        "#Load columns in the datasets\n",
        "data.columns"
      ]
    },
    {
      "cell_type": "code",
      "execution_count": 8,
      "id": "4341f08a",
      "metadata": {
        "colab": {
          "base_uri": "https://localhost:8080/"
        },
        "id": "4341f08a",
        "outputId": "639a3e6e-02c9-4433-f092-3146e3ed9150"
      },
      "outputs": [
        {
          "output_type": "stream",
          "name": "stdout",
          "text": [
            "<class 'pandas.core.frame.DataFrame'>\n",
            "RangeIndex: 10000 entries, 0 to 9999\n",
            "Data columns (total 14 columns):\n",
            " #   Column           Non-Null Count  Dtype  \n",
            "---  ------           --------------  -----  \n",
            " 0   RowNumber        10000 non-null  int64  \n",
            " 1   CustomerId       10000 non-null  int64  \n",
            " 2   Surname          10000 non-null  object \n",
            " 3   CreditScore      10000 non-null  int64  \n",
            " 4   Geography        10000 non-null  object \n",
            " 5   Gender           10000 non-null  object \n",
            " 6   Age              10000 non-null  int64  \n",
            " 7   Tenure           10000 non-null  int64  \n",
            " 8   Balance          10000 non-null  float64\n",
            " 9   NumOfProducts    10000 non-null  int64  \n",
            " 10  HasCrCard        10000 non-null  int64  \n",
            " 11  IsActiveMember   10000 non-null  int64  \n",
            " 12  EstimatedSalary  10000 non-null  float64\n",
            " 13  Exited           10000 non-null  int64  \n",
            "dtypes: float64(2), int64(9), object(3)\n",
            "memory usage: 1.1+ MB\n"
          ]
        }
      ],
      "source": [
        "#load information about the dataset\n",
        "data.info()"
      ]
    },
    {
      "cell_type": "markdown",
      "id": "e4c1cb7e",
      "metadata": {
        "id": "e4c1cb7e"
      },
      "source": [
        "## Observation\n",
        "We have 14 variables and 10000 observations in the dataset, also; We have 3 String variables. (Surname, Geography, Gender).\n",
        "We have 11 numerical variables. (RowNumber, CustomerId, CreditScore, Age, Tenure, Balance, NumOfProducts, HasCrCard, IsActiveMember, EstimatedSalary, Exited)"
      ]
    },
    {
      "cell_type": "markdown",
      "id": "VRRwla5sPL5Y",
      "metadata": {
        "id": "VRRwla5sPL5Y"
      },
      "source": [
        "### Checking for missing data"
      ]
    },
    {
      "cell_type": "code",
      "execution_count": 9,
      "id": "8b5bc8f2",
      "metadata": {
        "colab": {
          "base_uri": "https://localhost:8080/"
        },
        "id": "8b5bc8f2",
        "outputId": "2d099d42-082d-4d4a-8ae2-2018176f4f64"
      },
      "outputs": [
        {
          "output_type": "execute_result",
          "data": {
            "text/plain": [
              "RowNumber          0\n",
              "CustomerId         0\n",
              "Surname            0\n",
              "CreditScore        0\n",
              "Geography          0\n",
              "Gender             0\n",
              "Age                0\n",
              "Tenure             0\n",
              "Balance            0\n",
              "NumOfProducts      0\n",
              "HasCrCard          0\n",
              "IsActiveMember     0\n",
              "EstimatedSalary    0\n",
              "Exited             0\n",
              "dtype: int64"
            ]
          },
          "metadata": {},
          "execution_count": 9
        }
      ],
      "source": [
        "data.isnull().sum()"
      ]
    },
    {
      "cell_type": "markdown",
      "id": "500ce1c5",
      "metadata": {
        "id": "500ce1c5"
      },
      "source": [
        "## Observation\n",
        "There are no missing value in this data"
      ]
    },
    {
      "cell_type": "markdown",
      "id": "10c693ab",
      "metadata": {
        "id": "10c693ab"
      },
      "source": [
        "## Dropping Irrelevant Features\n",
        "Dropping variables that does not have an effect on the problem to be solved [\"RowNumber\",\"CustomerId\",\"Surname\"]"
      ]
    },
    {
      "cell_type": "code",
      "execution_count": 10,
      "id": "b9259e5e",
      "metadata": {
        "colab": {
          "base_uri": "https://localhost:8080/"
        },
        "id": "b9259e5e",
        "outputId": "79fab075-331a-417e-81a4-1b18b717cb26"
      },
      "outputs": [
        {
          "output_type": "execute_result",
          "data": {
            "text/plain": [
              "Index(['CreditScore', 'Geography', 'Gender', 'Age', 'Tenure', 'Balance',\n",
              "       'NumOfProducts', 'HasCrCard', 'IsActiveMember', 'EstimatedSalary',\n",
              "       'Exited'],\n",
              "      dtype='object')"
            ]
          },
          "metadata": {},
          "execution_count": 10
        }
      ],
      "source": [
        "data.drop([\"RowNumber\",\"CustomerId\",\"Surname\"], axis = 1 , inplace = True)\n",
        "data.columns"
      ]
    },
    {
      "cell_type": "markdown",
      "id": "3UyU2yUqP9Y8",
      "metadata": {
        "id": "3UyU2yUqP9Y8"
      },
      "source": [
        "## Statistics of the data"
      ]
    },
    {
      "cell_type": "code",
      "execution_count": 11,
      "id": "059b5dcf",
      "metadata": {
        "colab": {
          "base_uri": "https://localhost:8080/",
          "height": 332
        },
        "id": "059b5dcf",
        "outputId": "a5030404-fc2d-477f-af7f-a62b55baa567"
      },
      "outputs": [
        {
          "output_type": "execute_result",
          "data": {
            "text/plain": [
              "                   count           mean           std     min       25%  \\\n",
              "CreditScore      10000.0     650.528800     96.653299  350.00    584.00   \n",
              "Age              10000.0      38.921800     10.487806   18.00     32.00   \n",
              "Tenure           10000.0       5.012800      2.892174    0.00      3.00   \n",
              "Balance          10000.0   76485.889288  62397.405202    0.00      0.00   \n",
              "NumOfProducts    10000.0       1.530200      0.581654    1.00      1.00   \n",
              "HasCrCard        10000.0       0.705500      0.455840    0.00      0.00   \n",
              "IsActiveMember   10000.0       0.515100      0.499797    0.00      0.00   \n",
              "EstimatedSalary  10000.0  100090.239881  57510.492818   11.58  51002.11   \n",
              "Exited           10000.0       0.203700      0.402769    0.00      0.00   \n",
              "\n",
              "                        50%          75%        max  \n",
              "CreditScore         652.000     718.0000     850.00  \n",
              "Age                  37.000      44.0000      92.00  \n",
              "Tenure                5.000       7.0000      10.00  \n",
              "Balance           97198.540  127644.2400  250898.09  \n",
              "NumOfProducts         1.000       2.0000       4.00  \n",
              "HasCrCard             1.000       1.0000       1.00  \n",
              "IsActiveMember        1.000       1.0000       1.00  \n",
              "EstimatedSalary  100193.915  149388.2475  199992.48  \n",
              "Exited                0.000       0.0000       1.00  "
            ],
            "text/html": [
              "\n",
              "  <div id=\"df-d00c9181-935a-4526-86d7-7e5b1b301849\">\n",
              "    <div class=\"colab-df-container\">\n",
              "      <div>\n",
              "<style scoped>\n",
              "    .dataframe tbody tr th:only-of-type {\n",
              "        vertical-align: middle;\n",
              "    }\n",
              "\n",
              "    .dataframe tbody tr th {\n",
              "        vertical-align: top;\n",
              "    }\n",
              "\n",
              "    .dataframe thead th {\n",
              "        text-align: right;\n",
              "    }\n",
              "</style>\n",
              "<table border=\"1\" class=\"dataframe\">\n",
              "  <thead>\n",
              "    <tr style=\"text-align: right;\">\n",
              "      <th></th>\n",
              "      <th>count</th>\n",
              "      <th>mean</th>\n",
              "      <th>std</th>\n",
              "      <th>min</th>\n",
              "      <th>25%</th>\n",
              "      <th>50%</th>\n",
              "      <th>75%</th>\n",
              "      <th>max</th>\n",
              "    </tr>\n",
              "  </thead>\n",
              "  <tbody>\n",
              "    <tr>\n",
              "      <th>CreditScore</th>\n",
              "      <td>10000.0</td>\n",
              "      <td>650.528800</td>\n",
              "      <td>96.653299</td>\n",
              "      <td>350.00</td>\n",
              "      <td>584.00</td>\n",
              "      <td>652.000</td>\n",
              "      <td>718.0000</td>\n",
              "      <td>850.00</td>\n",
              "    </tr>\n",
              "    <tr>\n",
              "      <th>Age</th>\n",
              "      <td>10000.0</td>\n",
              "      <td>38.921800</td>\n",
              "      <td>10.487806</td>\n",
              "      <td>18.00</td>\n",
              "      <td>32.00</td>\n",
              "      <td>37.000</td>\n",
              "      <td>44.0000</td>\n",
              "      <td>92.00</td>\n",
              "    </tr>\n",
              "    <tr>\n",
              "      <th>Tenure</th>\n",
              "      <td>10000.0</td>\n",
              "      <td>5.012800</td>\n",
              "      <td>2.892174</td>\n",
              "      <td>0.00</td>\n",
              "      <td>3.00</td>\n",
              "      <td>5.000</td>\n",
              "      <td>7.0000</td>\n",
              "      <td>10.00</td>\n",
              "    </tr>\n",
              "    <tr>\n",
              "      <th>Balance</th>\n",
              "      <td>10000.0</td>\n",
              "      <td>76485.889288</td>\n",
              "      <td>62397.405202</td>\n",
              "      <td>0.00</td>\n",
              "      <td>0.00</td>\n",
              "      <td>97198.540</td>\n",
              "      <td>127644.2400</td>\n",
              "      <td>250898.09</td>\n",
              "    </tr>\n",
              "    <tr>\n",
              "      <th>NumOfProducts</th>\n",
              "      <td>10000.0</td>\n",
              "      <td>1.530200</td>\n",
              "      <td>0.581654</td>\n",
              "      <td>1.00</td>\n",
              "      <td>1.00</td>\n",
              "      <td>1.000</td>\n",
              "      <td>2.0000</td>\n",
              "      <td>4.00</td>\n",
              "    </tr>\n",
              "    <tr>\n",
              "      <th>HasCrCard</th>\n",
              "      <td>10000.0</td>\n",
              "      <td>0.705500</td>\n",
              "      <td>0.455840</td>\n",
              "      <td>0.00</td>\n",
              "      <td>0.00</td>\n",
              "      <td>1.000</td>\n",
              "      <td>1.0000</td>\n",
              "      <td>1.00</td>\n",
              "    </tr>\n",
              "    <tr>\n",
              "      <th>IsActiveMember</th>\n",
              "      <td>10000.0</td>\n",
              "      <td>0.515100</td>\n",
              "      <td>0.499797</td>\n",
              "      <td>0.00</td>\n",
              "      <td>0.00</td>\n",
              "      <td>1.000</td>\n",
              "      <td>1.0000</td>\n",
              "      <td>1.00</td>\n",
              "    </tr>\n",
              "    <tr>\n",
              "      <th>EstimatedSalary</th>\n",
              "      <td>10000.0</td>\n",
              "      <td>100090.239881</td>\n",
              "      <td>57510.492818</td>\n",
              "      <td>11.58</td>\n",
              "      <td>51002.11</td>\n",
              "      <td>100193.915</td>\n",
              "      <td>149388.2475</td>\n",
              "      <td>199992.48</td>\n",
              "    </tr>\n",
              "    <tr>\n",
              "      <th>Exited</th>\n",
              "      <td>10000.0</td>\n",
              "      <td>0.203700</td>\n",
              "      <td>0.402769</td>\n",
              "      <td>0.00</td>\n",
              "      <td>0.00</td>\n",
              "      <td>0.000</td>\n",
              "      <td>0.0000</td>\n",
              "      <td>1.00</td>\n",
              "    </tr>\n",
              "  </tbody>\n",
              "</table>\n",
              "</div>\n",
              "      <button class=\"colab-df-convert\" onclick=\"convertToInteractive('df-d00c9181-935a-4526-86d7-7e5b1b301849')\"\n",
              "              title=\"Convert this dataframe to an interactive table.\"\n",
              "              style=\"display:none;\">\n",
              "        \n",
              "  <svg xmlns=\"http://www.w3.org/2000/svg\" height=\"24px\"viewBox=\"0 0 24 24\"\n",
              "       width=\"24px\">\n",
              "    <path d=\"M0 0h24v24H0V0z\" fill=\"none\"/>\n",
              "    <path d=\"M18.56 5.44l.94 2.06.94-2.06 2.06-.94-2.06-.94-.94-2.06-.94 2.06-2.06.94zm-11 1L8.5 8.5l.94-2.06 2.06-.94-2.06-.94L8.5 2.5l-.94 2.06-2.06.94zm10 10l.94 2.06.94-2.06 2.06-.94-2.06-.94-.94-2.06-.94 2.06-2.06.94z\"/><path d=\"M17.41 7.96l-1.37-1.37c-.4-.4-.92-.59-1.43-.59-.52 0-1.04.2-1.43.59L10.3 9.45l-7.72 7.72c-.78.78-.78 2.05 0 2.83L4 21.41c.39.39.9.59 1.41.59.51 0 1.02-.2 1.41-.59l7.78-7.78 2.81-2.81c.8-.78.8-2.07 0-2.86zM5.41 20L4 18.59l7.72-7.72 1.47 1.35L5.41 20z\"/>\n",
              "  </svg>\n",
              "      </button>\n",
              "      \n",
              "  <style>\n",
              "    .colab-df-container {\n",
              "      display:flex;\n",
              "      flex-wrap:wrap;\n",
              "      gap: 12px;\n",
              "    }\n",
              "\n",
              "    .colab-df-convert {\n",
              "      background-color: #E8F0FE;\n",
              "      border: none;\n",
              "      border-radius: 50%;\n",
              "      cursor: pointer;\n",
              "      display: none;\n",
              "      fill: #1967D2;\n",
              "      height: 32px;\n",
              "      padding: 0 0 0 0;\n",
              "      width: 32px;\n",
              "    }\n",
              "\n",
              "    .colab-df-convert:hover {\n",
              "      background-color: #E2EBFA;\n",
              "      box-shadow: 0px 1px 2px rgba(60, 64, 67, 0.3), 0px 1px 3px 1px rgba(60, 64, 67, 0.15);\n",
              "      fill: #174EA6;\n",
              "    }\n",
              "\n",
              "    [theme=dark] .colab-df-convert {\n",
              "      background-color: #3B4455;\n",
              "      fill: #D2E3FC;\n",
              "    }\n",
              "\n",
              "    [theme=dark] .colab-df-convert:hover {\n",
              "      background-color: #434B5C;\n",
              "      box-shadow: 0px 1px 3px 1px rgba(0, 0, 0, 0.15);\n",
              "      filter: drop-shadow(0px 1px 2px rgba(0, 0, 0, 0.3));\n",
              "      fill: #FFFFFF;\n",
              "    }\n",
              "  </style>\n",
              "\n",
              "      <script>\n",
              "        const buttonEl =\n",
              "          document.querySelector('#df-d00c9181-935a-4526-86d7-7e5b1b301849 button.colab-df-convert');\n",
              "        buttonEl.style.display =\n",
              "          google.colab.kernel.accessAllowed ? 'block' : 'none';\n",
              "\n",
              "        async function convertToInteractive(key) {\n",
              "          const element = document.querySelector('#df-d00c9181-935a-4526-86d7-7e5b1b301849');\n",
              "          const dataTable =\n",
              "            await google.colab.kernel.invokeFunction('convertToInteractive',\n",
              "                                                     [key], {});\n",
              "          if (!dataTable) return;\n",
              "\n",
              "          const docLinkHtml = 'Like what you see? Visit the ' +\n",
              "            '<a target=\"_blank\" href=https://colab.research.google.com/notebooks/data_table.ipynb>data table notebook</a>'\n",
              "            + ' to learn more about interactive tables.';\n",
              "          element.innerHTML = '';\n",
              "          dataTable['output_type'] = 'display_data';\n",
              "          await google.colab.output.renderOutput(dataTable, element);\n",
              "          const docLink = document.createElement('div');\n",
              "          docLink.innerHTML = docLinkHtml;\n",
              "          element.appendChild(docLink);\n",
              "        }\n",
              "      </script>\n",
              "    </div>\n",
              "  </div>\n",
              "  "
            ]
          },
          "metadata": {},
          "execution_count": 11
        }
      ],
      "source": [
        "stats = data.describe().T\n",
        "stats"
      ]
    },
    {
      "cell_type": "markdown",
      "id": "9c7f90ba",
      "metadata": {
        "id": "9c7f90ba"
      },
      "source": [
        "## DATA VISUALIZATION"
      ]
    },
    {
      "cell_type": "markdown",
      "id": "L7zVQU-SMTvY",
      "metadata": {
        "id": "L7zVQU-SMTvY"
      },
      "source": [
        "## Importing libraries"
      ]
    },
    {
      "cell_type": "code",
      "execution_count": 12,
      "id": "45WHjbj9MJF5",
      "metadata": {
        "id": "45WHjbj9MJF5"
      },
      "outputs": [],
      "source": [
        "import matplotlib.pyplot as plt\n",
        "%matplotlib inline\n",
        "import seaborn as sns"
      ]
    },
    {
      "cell_type": "markdown",
      "id": "bb9b9712",
      "metadata": {
        "id": "bb9b9712"
      },
      "source": [
        "## Analyzing target variable"
      ]
    },
    {
      "cell_type": "code",
      "execution_count": 13,
      "id": "NpJyjNNquPcV",
      "metadata": {
        "colab": {
          "base_uri": "https://localhost:8080/",
          "height": 352
        },
        "id": "NpJyjNNquPcV",
        "outputId": "b5aba945-a540-4f42-9216-d05df538568a"
      },
      "outputs": [
        {
          "output_type": "execute_result",
          "data": {
            "text/plain": [
              "([<matplotlib.patches.Wedge at 0x7fee9f552fd0>,\n",
              "  <matplotlib.patches.Wedge at 0x7fee9f5604c0>],\n",
              " [Text(-0.8823431426537007, 0.6568642010431011, 'Not Exited'),\n",
              "  Text(0.9625561556222189, -0.7165791284106559, 'Exited')],\n",
              " [Text(-0.48127807781110943, 0.3582895642053278, '79.6%'),\n",
              "  Text(0.5614910907796276, -0.41800449157288255, '20.4%')])"
            ]
          },
          "metadata": {},
          "execution_count": 13
        },
        {
          "output_type": "display_data",
          "data": {
            "text/plain": [
              "<Figure size 432x288 with 1 Axes>"
            ],
            "image/png": "[encoded data removed]"
          },
          "metadata": {}
        }
      ],
      "source": [
        "# Finding percentage of Exited and Non-Exited bank customer\n",
        "x=data['Exited'].value_counts()\n",
        "labels=['Not Exited','Exited']\n",
        "plt.pie(x,explode=[0.0,0.1],labels=labels,autopct='%1.1f%%')\n"
      ]
    },
    {
      "cell_type": "markdown",
      "id": "5GJOUHCfmknK",
      "metadata": {
        "id": "5GJOUHCfmknK"
      },
      "source": [
        "## Observation:\n",
        "From the given data, it is visible that around 20% of the people have exited or churned. So, we can try to create a machine learning model that can predict whether a customer will exit the bank or not given his/her banking data."
      ]
    },
    {
      "cell_type": "code",
      "execution_count": 14,
      "id": "7ee307bb",
      "metadata": {
        "colab": {
          "base_uri": "https://localhost:8080/"
        },
        "id": "7ee307bb",
        "outputId": "5d893c4d-ce68-48df-e2b4-7a1fed34c3c4"
      },
      "outputs": [
        {
          "output_type": "execute_result",
          "data": {
            "text/plain": [
              "0    7963\n",
              "1    2037\n",
              "Name: Exited, dtype: int64"
            ]
          },
          "metadata": {},
          "execution_count": 14
        }
      ],
      "source": [
        "# Finding no. of exited and non exited bank customer  \n",
        "data['Exited'].value_counts()"
      ]
    },
    {
      "cell_type": "code",
      "execution_count": 15,
      "id": "8a915579",
      "metadata": {
        "colab": {
          "base_uri": "https://localhost:8080/",
          "height": 497
        },
        "id": "8a915579",
        "outputId": "a0c7f802-5cc7-48ad-efd6-5d18334a3e5b"
      },
      "outputs": [
        {
          "output_type": "display_data",
          "data": {
            "text/plain": [
              "<Figure size 1080x576 with 1 Axes>"
            ],
            "image/png": "[encoded data removed]"
          },
          "metadata": {
            "needs_background": "light"
          }
        }
      ],
      "source": [
        "plt.figure(figsize = (15,8))\n",
        "sns.countplot('Exited', data = data)\n",
        "plt.show()"
      ]
    },
    {
      "cell_type": "markdown",
      "id": "fgHCJvTu0prh",
      "metadata": {
        "id": "fgHCJvTu0prh"
      },
      "source": [
        "# Analyzing Categorical Features"
      ]
    },
    {
      "cell_type": "code",
      "execution_count": 16,
      "id": "21d59079",
      "metadata": {
        "id": "21d59079"
      },
      "outputs": [],
      "source": [
        "# Count column plots to map the dependence of 'Exited' column on categorical features\n",
        "cat_data = data[['Gender', 'Tenure','Geography', 'NumOfProducts', 'HasCrCard', 'IsActiveMember']]"
      ]
    },
    {
      "cell_type": "code",
      "execution_count": 17,
      "id": "e473324b",
      "metadata": {
        "colab": {
          "base_uri": "https://localhost:8080/",
          "height": 1000
        },
        "id": "e473324b",
        "outputId": "1372aef9-4834-46ab-899e-a6a005e03723"
      },
      "outputs": [
        {
          "output_type": "stream",
          "name": "stdout",
          "text": [
            "Male      5457\n",
            "Female    4543\n",
            "Name: Gender, dtype: int64\n"
          ]
        },
        {
          "output_type": "display_data",
          "data": {
            "text/plain": [
              "<Figure size 1080x576 with 1 Axes>"
            ],
            "image/png": "[encoded data removed]"
          },
          "metadata": {
            "needs_background": "light"
          }
        },
        {
          "output_type": "stream",
          "name": "stdout",
          "text": [
            "2     1048\n",
            "1     1035\n",
            "7     1028\n",
            "8     1025\n",
            "5     1012\n",
            "3     1009\n",
            "4      989\n",
            "9      984\n",
            "6      967\n",
            "10     490\n",
            "0      413\n",
            "Name: Tenure, dtype: int64\n"
          ]
        },
        {
          "output_type": "display_data",
          "data": {
            "text/plain": [
              "<Figure size 1080x576 with 1 Axes>"
            ],
            "image/png": "[encoded data removed]"
          },
          "metadata": {
            "needs_background": "light"
          }
        },
        {
          "output_type": "stream",
          "name": "stdout",
          "text": [
            "France     5014\n",
            "Germany    2509\n",
            "Spain      2477\n",
            "Name: Geography, dtype: int64\n"
          ]
        },
        {
          "output_type": "display_data",
          "data": {
            "text/plain": [
              "<Figure size 1080x576 with 1 Axes>"
            ],
            "image/png": "[encoded data removed]"
          },
          "metadata": {
            "needs_background": "light"
          }
        },
        {
          "output_type": "stream",
          "name": "stdout",
          "text": [
            "1    5084\n",
            "2    4590\n",
            "3     266\n",
            "4      60\n",
            "Name: NumOfProducts, dtype: int64\n"
          ]
        },
        {
          "output_type": "display_data",
          "data": {
            "text/plain": [
              "<Figure size 1080x576 with 1 Axes>"
            ],
            "image/png": "[encoded data removed]"
          },
          "metadata": {
            "needs_background": "light"
          }
        },
        {
          "output_type": "stream",
          "name": "stdout",
          "text": [
            "1    7055\n",
            "0    2945\n",
            "Name: HasCrCard, dtype: int64\n"
          ]
        },
        {
          "output_type": "display_data",
          "data": {
            "text/plain": [
              "<Figure size 1080x576 with 1 Axes>"
            ],
            "image/png": "[encoded data removed]"
          },
          "metadata": {
            "needs_background": "light"
          }
        },
        {
          "output_type": "stream",
          "name": "stdout",
          "text": [
            "1    5151\n",
            "0    4849\n",
            "Name: IsActiveMember, dtype: int64\n"
          ]
        },
        {
          "output_type": "display_data",
          "data": {
            "text/plain": [
              "<Figure size 1080x576 with 1 Axes>"
            ],
            "image/png": "[encoded data removed]"
          },
          "metadata": {
            "needs_background": "light"
          }
        }
      ],
      "source": [
        "def categorical(var):\n",
        "    print(data[var].value_counts())\n",
        "    \n",
        "    plt.figure(figsize = (15,8))\n",
        "    sns.countplot(x = var, data = data, hue = 'Exited')\n",
        "    plt.show()\n",
        "    \n",
        "for i in cat_data:\n",
        "    categorical(i)"
      ]
    },
    {
      "cell_type": "markdown",
      "id": "7306c38f",
      "metadata": {
        "id": "7306c38f"
      },
      "source": [
        " ## Observation\n",
        "\n",
        "+ Geography: We can see that majority of the data is about people France. Ideally for an evenly-distributed data, if the amount of people from a place is the majority, then the majority of churning should also be within that group. However, it is not so in this case as we see that number of exited people who belong to Germany is almost equal to the number of exits from France.\n",
        "+ Gender: We can clearly see the Female customers had more exits than the male customers.\n",
        "+ Credit cards: It is generally expected that people who have more interactions and products of the bank, would likely be retained for a longer time. However, we can see that people who have credit cards have more exits than those who do not own credit cards.\n",
        "+ Active Member: This is an expected observation. We can see that inactive members have been churned more than members who are active.\n",
        "+ Number of Products: This is also an expected observation, where we see that customers who own more products from the bank are likely to be retained for a longer time than those who own less products.\n",
        "+ Tenure: We see that the tenure of a customer does not really tell us much if that customer is likely to be churned or not. Initially, it looks like new joinees and older people (10 years) have been churned less. However, on a closer analysis we can see that the overall number of retained customer are significantly less in both these cases. As a result, we can probably conclude that new joinees and older customers may be more likely to be churned as their churn rate (percentage) is likely to be higher than other tenure rates."
      ]
    },
    {
      "cell_type": "markdown",
      "id": "4QsauUFqtiHO",
      "metadata": {
        "id": "4QsauUFqtiHO"
      },
      "source": [
        "# Data Distribution- Numeric and continuous data"
      ]
    },
    {
      "cell_type": "code",
      "execution_count": 18,
      "id": "d8daa843",
      "metadata": {
        "id": "d8daa843"
      },
      "outputs": [],
      "source": [
        "Num_data = data[[ 'Age', 'CreditScore', 'Balance', 'EstimatedSalary' ]]"
      ]
    },
    {
      "cell_type": "code",
      "execution_count": 19,
      "id": "25b302a6",
      "metadata": {
        "colab": {
          "base_uri": "https://localhost:8080/",
          "height": 1000
        },
        "id": "25b302a6",
        "outputId": "2dc03b16-2655-4f51-c91d-6ad0700aac04"
      },
      "outputs": [
        {
          "output_type": "display_data",
          "data": {
            "text/plain": [
              "<Figure size 432x288 with 1 Axes>"
            ],
            "image/png": "[encoded data removed]"
          },
          "metadata": {
            "needs_background": "light"
          }
        },
        {
          "output_type": "display_data",
          "data": {
            "text/plain": [
              "<Figure size 432x288 with 1 Axes>"
            ],
            "image/png": "[encoded data removed]"
          },
          "metadata": {
            "needs_background": "light"
          }
        },
        {
          "output_type": "display_data",
          "data": {
            "text/plain": [
              "<Figure size 432x288 with 1 Axes>"
            ],
            "image/png": "[encoded data removed]"
          },
          "metadata": {
            "needs_background": "light"
          }
        },
        {
          "output_type": "display_data",
          "data": {
            "text/plain": [
              "<Figure size 432x288 with 1 Axes>"
            ],
            "image/png": "[encoded data removed]"
          },
          "metadata": {
            "needs_background": "light"
          }
        }
      ],
      "source": [
        "def numerical(var):\n",
        "\n",
        "    plt.hist(data[var], bins = 20, color = \"lightgreen\")\n",
        "    plt.xlabel(var)\n",
        "    plt.ylabel(\"Frequency\")\n",
        "    plt.title(\"{} variable distribution\".format(var))\n",
        "    plt.show()\n",
        "    \n",
        "for i in Num_data:\n",
        "    numerical(i)"
      ]
    },
    {
      "cell_type": "markdown",
      "id": "5e0304d4",
      "metadata": {
        "id": "5e0304d4"
      },
      "source": [
        "# Observation\n",
        "Credit Score variable is skewed to the left.\n",
        "\n",
        "The age variable is skewed to the right.\n",
        "\n",
        "Since the ratio of the balance variable is too much, it is added to the left.\n",
        "\n",
        "EstimatedSalary variable displayed a normal distribution."
      ]
    },
    {
      "cell_type": "markdown",
      "id": "f3442b61",
      "metadata": {
        "id": "f3442b61"
      },
      "source": [
        "## VISUALISING OUTLIERS AND REMOVAL"
      ]
    },
    {
      "cell_type": "code",
      "execution_count": 20,
      "id": "438fc39a",
      "metadata": {
        "id": "438fc39a"
      },
      "outputs": [],
      "source": [
        "list_order = ['CreditScore', 'Age', 'Tenure', 'Balance', 'NumOfProducts', 'EstimatedSalary']"
      ]
    },
    {
      "cell_type": "code",
      "execution_count": 21,
      "id": "915c83b1",
      "metadata": {
        "colab": {
          "base_uri": "https://localhost:8080/",
          "height": 1000
        },
        "id": "915c83b1",
        "outputId": "13750ff2-5aca-40a8-d2a9-97f8c0adf462"
      },
      "outputs": [
        {
          "output_type": "display_data",
          "data": {
            "text/plain": [
              "<Figure size 432x288 with 1 Axes>"
            ],
            "image/png": "[encoded data removed]"
          },
          "metadata": {
            "needs_background": "light"
          }
        },
        {
          "output_type": "display_data",
          "data": {
            "text/plain": [
              "<Figure size 432x288 with 1 Axes>"
            ],
            "image/png": "[encoded data removed]"
          },
          "metadata": {
            "needs_background": "light"
          }
        },
        {
          "output_type": "display_data",
          "data": {
            "text/plain": [
              "<Figure size 432x288 with 1 Axes>"
            ],
            "image/png": "[encoded data removed]"
          },
          "metadata": {
            "needs_background": "light"
          }
        },
        {
          "output_type": "display_data",
          "data": {
            "text/plain": [
              "<Figure size 432x288 with 1 Axes>"
            ],
            "image/png": "[encoded data removed]"
          },
          "metadata": {
            "needs_background": "light"
          }
        },
        {
          "output_type": "display_data",
          "data": {
            "text/plain": [
              "<Figure size 432x288 with 1 Axes>"
            ],
            "image/png": "[encoded data removed]"
          },
          "metadata": {
            "needs_background": "light"
          }
        },
        {
          "output_type": "display_data",
          "data": {
            "text/plain": [
              "<Figure size 432x288 with 1 Axes>"
            ],
            "image/png": "[encoded data removed]"
          },
          "metadata": {
            "needs_background": "light"
          }
        }
      ],
      "source": [
        "def viz_outliers(var):\n",
        "\n",
        "    sns.boxplot(data[var])\n",
        "    plt.show()\n",
        "    \n",
        "for i in list_order:\n",
        "    viz_outliers(i)"
      ]
    },
    {
      "cell_type": "markdown",
      "id": "8f164819",
      "metadata": {
        "id": "8f164819"
      },
      "source": [
        "## Observation\n",
        "There is presence of outliers in CreditScore, Age, NumOfProducts, Now lets go further to remove and clean the outliers"
      ]
    },
    {
      "cell_type": "markdown",
      "id": "rjXDgWPZo4y5",
      "metadata": {
        "id": "rjXDgWPZo4y5"
      },
      "source": [
        "## Remove Outliers"
      ]
    },
    {
      "cell_type": "code",
      "execution_count": 22,
      "id": "067fdc39",
      "metadata": {
        "id": "067fdc39"
      },
      "outputs": [],
      "source": [
        "# CreditScore, Age, NumOfProducts have outliers\n",
        "outliers = ['Age','CreditScore','NumOfProducts']"
      ]
    },
    {
      "cell_type": "code",
      "execution_count": 23,
      "id": "a9284f8e",
      "metadata": {
        "id": "a9284f8e"
      },
      "outputs": [],
      "source": [
        "# create a function to remove the outliers\n",
        "def outlier_removal(data,column):\n",
        "    q1 = data[column].quantile(0.25)\n",
        "    q3 = data[column].quantile(0.75)\n",
        "    iqr = q3 - q1\n",
        "    point_low = q1 - 1.5 * iqr\n",
        "    point_high = q3 + 1.5 * iqr\n",
        "    cleaned_data = data.loc[(data[column] >  point_low) & (data[column] <  point_high)]\n",
        "    return cleaned_data"
      ]
    },
    {
      "cell_type": "code",
      "execution_count": 24,
      "id": "cf336aa9",
      "metadata": {
        "colab": {
          "base_uri": "https://localhost:8080/"
        },
        "id": "cf336aa9",
        "outputId": "55e86466-9f24-4acc-d854-2013dcc5e343"
      },
      "outputs": [
        {
          "output_type": "stream",
          "name": "stdout",
          "text": [
            "(10000, 11)\n",
            "(9516, 11)\n"
          ]
        }
      ],
      "source": [
        "# clean the dataset by removing outliers\n",
        "data_cleaned = outlier_removal(outlier_removal(outlier_removal(data,'Age'),'CreditScore'),'NumOfProducts')\n",
        "\n",
        "print(data.shape)\n",
        "print(data_cleaned.shape)"
      ]
    },
    {
      "cell_type": "markdown",
      "id": "330dde45",
      "metadata": {
        "id": "330dde45"
      },
      "source": [
        "## CORRELATION MATRIX OF THE DATA"
      ]
    },
    {
      "cell_type": "code",
      "execution_count": 25,
      "id": "6d4e58dc",
      "metadata": {
        "colab": {
          "base_uri": "https://localhost:8080/",
          "height": 504
        },
        "id": "6d4e58dc",
        "outputId": "47dca081-3f6a-49c1-bc39-16032b51de20"
      },
      "outputs": [
        {
          "output_type": "execute_result",
          "data": {
            "text/plain": [
              "<matplotlib.axes._subplots.AxesSubplot at 0x7fee9eb6cbb0>"
            ]
          },
          "metadata": {},
          "execution_count": 25
        },
        {
          "output_type": "display_data",
          "data": {
            "text/plain": [
              "<Figure size 1080x576 with 2 Axes>"
            ],
            "image/png": "[encoded data removed]"
          },
          "metadata": {
            "needs_background": "light"
          }
        }
      ],
      "source": [
        "plt.figure(figsize = (15,8))\n",
        "list_corr = ['CreditScore' ,'Age' ,'Tenure' ,'Balance' ,'NumOfProducts' ,'EstimatedSalary' ,'Exited']\n",
        "sns.heatmap(data_cleaned[list_corr].corr(), annot = True, linecolor = \"black\", lw = 0.5) "
      ]
    },
    {
      "cell_type": "markdown",
      "id": "5LPDhLfyoBye",
      "metadata": {
        "id": "5LPDhLfyoBye"
      },
      "source": [
        "## Obsevation:\n",
        "1. Age has the strongest relation with Exited (0.36). Here we can make the following comment: As the age of the customer increases, the rate of losing the customer increases. (Positive strong relationship)\n",
        "\n"
      ]
    },
    {
      "cell_type": "markdown",
      "id": "vnB78RqYoamh",
      "metadata": {
        "id": "vnB78RqYoamh"
      },
      "source": [
        "## Analyzing how numerical variable relates with the target variable (exited)"
      ]
    },
    {
      "cell_type": "markdown",
      "id": "9cbcb4bb",
      "metadata": {
        "id": "9cbcb4bb"
      },
      "source": [
        "## AGE AND EXIT\n",
        "What impact does age has on exit varible?"
      ]
    },
    {
      "cell_type": "code",
      "execution_count": 26,
      "id": "df94a6c9",
      "metadata": {
        "colab": {
          "base_uri": "https://localhost:8080/",
          "height": 514
        },
        "id": "df94a6c9",
        "outputId": "3d51452f-515c-41a3-86a4-8aaa8416fac1"
      },
      "outputs": [
        {
          "output_type": "execute_result",
          "data": {
            "text/plain": [
              "<matplotlib.axes._subplots.AxesSubplot at 0x7fee9eda1c70>"
            ]
          },
          "metadata": {},
          "execution_count": 26
        },
        {
          "output_type": "display_data",
          "data": {
            "text/plain": [
              "<Figure size 1080x576 with 1 Axes>"
            ],
            "image/png": "[encoded data removed]"
          },
          "metadata": {
            "needs_background": "light"
          }
        }
      ],
      "source": [
        "plt.figure(figsize = (15,8))\n",
        "sns.lineplot(x = \"Age\", y = \"Exited\", data = data_cleaned)"
      ]
    },
    {
      "cell_type": "code",
      "execution_count": 27,
      "id": "776eabd9",
      "metadata": {
        "colab": {
          "base_uri": "https://localhost:8080/"
        },
        "id": "776eabd9",
        "outputId": "0e1e8ffc-9f56-485a-bf48-29e6349e568c"
      },
      "outputs": [
        {
          "output_type": "execute_result",
          "data": {
            "text/plain": [
              "Exited\n",
              "0    36.089197\n",
              "1    43.793583\n",
              "Name: Age, dtype: float64"
            ]
          },
          "metadata": {},
          "execution_count": 27
        }
      ],
      "source": [
        "data_cleaned.groupby(data_cleaned[\"Exited\"])[\"Age\"].mean()"
      ]
    },
    {
      "cell_type": "markdown",
      "id": "1e552d1c",
      "metadata": {
        "id": "1e552d1c"
      },
      "source": [
        "## Observation"
      ]
    },
    {
      "cell_type": "markdown",
      "id": "6d3178e5",
      "metadata": {
        "id": "6d3178e5"
      },
      "source": [
        "As the age of the customer increases, the rate of losing the customer increases. \n",
        "(Positive strong relationship observed from correlation matrix)\n",
        "\n",
        "1. Average age of customers who did not leave the bank == 36\n",
        "2. Average age of customers leaving the bank == 43"
      ]
    },
    {
      "cell_type": "markdown",
      "id": "e6dd97ff",
      "metadata": {
        "id": "e6dd97ff"
      },
      "source": [
        "# FEATURE ENGINEERING"
      ]
    },
    {
      "cell_type": "code",
      "execution_count": 28,
      "id": "3b999c9f",
      "metadata": {
        "colab": {
          "base_uri": "https://localhost:8080/",
          "height": 206
        },
        "id": "3b999c9f",
        "outputId": "bfdff06c-9f3a-4701-d293-647a532bd7c4",
        "scrolled": true
      },
      "outputs": [
        {
          "output_type": "execute_result",
          "data": {
            "text/plain": [
              "   CreditScore  Age  Tenure    Balance  NumOfProducts  HasCrCard  \\\n",
              "0          619   42       2       0.00              1          1   \n",
              "1          608   41       1   83807.86              1          0   \n",
              "2          502   42       8  159660.80              3          1   \n",
              "3          699   39       1       0.00              2          0   \n",
              "4          850   43       2  125510.82              1          1   \n",
              "\n",
              "   IsActiveMember  EstimatedSalary  Exited  Geography_Germany  \\\n",
              "0               1        101348.88       1                  0   \n",
              "1               1        112542.58       0                  0   \n",
              "2               0        113931.57       1                  0   \n",
              "3               0         93826.63       0                  0   \n",
              "4               1         79084.10       0                  0   \n",
              "\n",
              "   Geography_Spain  Gender_Male  \n",
              "0                0            0  \n",
              "1                1            0  \n",
              "2                0            0  \n",
              "3                0            0  \n",
              "4                1            0  "
            ],
            "text/html": [
              "\n",
              "  <div id=\"df-c0c456ad-722d-4fd7-a7c3-50c0ee81137b\">\n",
              "    <div class=\"colab-df-container\">\n",
              "      <div>\n",
              "<style scoped>\n",
              "    .dataframe tbody tr th:only-of-type {\n",
              "        vertical-align: middle;\n",
              "    }\n",
              "\n",
              "    .dataframe tbody tr th {\n",
              "        vertical-align: top;\n",
              "    }\n",
              "\n",
              "    .dataframe thead th {\n",
              "        text-align: right;\n",
              "    }\n",
              "</style>\n",
              "<table border=\"1\" class=\"dataframe\">\n",
              "  <thead>\n",
              "    <tr style=\"text-align: right;\">\n",
              "      <th></th>\n",
              "      <th>CreditScore</th>\n",
              "      <th>Age</th>\n",
              "      <th>Tenure</th>\n",
              "      <th>Balance</th>\n",
              "      <th>NumOfProducts</th>\n",
              "      <th>HasCrCard</th>\n",
              "      <th>IsActiveMember</th>\n",
              "      <th>EstimatedSalary</th>\n",
              "      <th>Exited</th>\n",
              "      <th>Geography_Germany</th>\n",
              "      <th>Geography_Spain</th>\n",
              "      <th>Gender_Male</th>\n",
              "    </tr>\n",
              "  </thead>\n",
              "  <tbody>\n",
              "    <tr>\n",
              "      <th>0</th>\n",
              "      <td>619</td>\n",
              "      <td>42</td>\n",
              "      <td>2</td>\n",
              "      <td>0.00</td>\n",
              "      <td>1</td>\n",
              "      <td>1</td>\n",
              "      <td>1</td>\n",
              "      <td>101348.88</td>\n",
              "      <td>1</td>\n",
              "      <td>0</td>\n",
              "      <td>0</td>\n",
              "      <td>0</td>\n",
              "    </tr>\n",
              "    <tr>\n",
              "      <th>1</th>\n",
              "      <td>608</td>\n",
              "      <td>41</td>\n",
              "      <td>1</td>\n",
              "      <td>83807.86</td>\n",
              "      <td>1</td>\n",
              "      <td>0</td>\n",
              "      <td>1</td>\n",
              "      <td>112542.58</td>\n",
              "      <td>0</td>\n",
              "      <td>0</td>\n",
              "      <td>1</td>\n",
              "      <td>0</td>\n",
              "    </tr>\n",
              "    <tr>\n",
              "      <th>2</th>\n",
              "      <td>502</td>\n",
              "      <td>42</td>\n",
              "      <td>8</td>\n",
              "      <td>159660.80</td>\n",
              "      <td>3</td>\n",
              "      <td>1</td>\n",
              "      <td>0</td>\n",
              "      <td>113931.57</td>\n",
              "      <td>1</td>\n",
              "      <td>0</td>\n",
              "      <td>0</td>\n",
              "      <td>0</td>\n",
              "    </tr>\n",
              "    <tr>\n",
              "      <th>3</th>\n",
              "      <td>699</td>\n",
              "      <td>39</td>\n",
              "      <td>1</td>\n",
              "      <td>0.00</td>\n",
              "      <td>2</td>\n",
              "      <td>0</td>\n",
              "      <td>0</td>\n",
              "      <td>93826.63</td>\n",
              "      <td>0</td>\n",
              "      <td>0</td>\n",
              "      <td>0</td>\n",
              "      <td>0</td>\n",
              "    </tr>\n",
              "    <tr>\n",
              "      <th>4</th>\n",
              "      <td>850</td>\n",
              "      <td>43</td>\n",
              "      <td>2</td>\n",
              "      <td>125510.82</td>\n",
              "      <td>1</td>\n",
              "      <td>1</td>\n",
              "      <td>1</td>\n",
              "      <td>79084.10</td>\n",
              "      <td>0</td>\n",
              "      <td>0</td>\n",
              "      <td>1</td>\n",
              "      <td>0</td>\n",
              "    </tr>\n",
              "  </tbody>\n",
              "</table>\n",
              "</div>\n",
              "      <button class=\"colab-df-convert\" onclick=\"convertToInteractive('df-c0c456ad-722d-4fd7-a7c3-50c0ee81137b')\"\n",
              "              title=\"Convert this dataframe to an interactive table.\"\n",
              "              style=\"display:none;\">\n",
              "        \n",
              "  <svg xmlns=\"http://www.w3.org/2000/svg\" height=\"24px\"viewBox=\"0 0 24 24\"\n",
              "       width=\"24px\">\n",
              "    <path d=\"M0 0h24v24H0V0z\" fill=\"none\"/>\n",
              "    <path d=\"M18.56 5.44l.94 2.06.94-2.06 2.06-.94-2.06-.94-.94-2.06-.94 2.06-2.06.94zm-11 1L8.5 8.5l.94-2.06 2.06-.94-2.06-.94L8.5 2.5l-.94 2.06-2.06.94zm10 10l.94 2.06.94-2.06 2.06-.94-2.06-.94-.94-2.06-.94 2.06-2.06.94z\"/><path d=\"M17.41 7.96l-1.37-1.37c-.4-.4-.92-.59-1.43-.59-.52 0-1.04.2-1.43.59L10.3 9.45l-7.72 7.72c-.78.78-.78 2.05 0 2.83L4 21.41c.39.39.9.59 1.41.59.51 0 1.02-.2 1.41-.59l7.78-7.78 2.81-2.81c.8-.78.8-2.07 0-2.86zM5.41 20L4 18.59l7.72-7.72 1.47 1.35L5.41 20z\"/>\n",
              "  </svg>\n",
              "      </button>\n",
              "      \n",
              "  <style>\n",
              "    .colab-df-container {\n",
              "      display:flex;\n",
              "      flex-wrap:wrap;\n",
              "      gap: 12px;\n",
              "    }\n",
              "\n",
              "    .colab-df-convert {\n",
              "      background-color: #E8F0FE;\n",
              "      border: none;\n",
              "      border-radius: 50%;\n",
              "      cursor: pointer;\n",
              "      display: none;\n",
              "      fill: #1967D2;\n",
              "      height: 32px;\n",
              "      padding: 0 0 0 0;\n",
              "      width: 32px;\n",
              "    }\n",
              "\n",
              "    .colab-df-convert:hover {\n",
              "      background-color: #E2EBFA;\n",
              "      box-shadow: 0px 1px 2px rgba(60, 64, 67, 0.3), 0px 1px 3px 1px rgba(60, 64, 67, 0.15);\n",
              "      fill: #174EA6;\n",
              "    }\n",
              "\n",
              "    [theme=dark] .colab-df-convert {\n",
              "      background-color: #3B4455;\n",
              "      fill: #D2E3FC;\n",
              "    }\n",
              "\n",
              "    [theme=dark] .colab-df-convert:hover {\n",
              "      background-color: #434B5C;\n",
              "      box-shadow: 0px 1px 3px 1px rgba(0, 0, 0, 0.15);\n",
              "      filter: drop-shadow(0px 1px 2px rgba(0, 0, 0, 0.3));\n",
              "      fill: #FFFFFF;\n",
              "    }\n",
              "  </style>\n",
              "\n",
              "      <script>\n",
              "        const buttonEl =\n",
              "          document.querySelector('#df-c0c456ad-722d-4fd7-a7c3-50c0ee81137b button.colab-df-convert');\n",
              "        buttonEl.style.display =\n",
              "          google.colab.kernel.accessAllowed ? 'block' : 'none';\n",
              "\n",
              "        async function convertToInteractive(key) {\n",
              "          const element = document.querySelector('#df-c0c456ad-722d-4fd7-a7c3-50c0ee81137b');\n",
              "          const dataTable =\n",
              "            await google.colab.kernel.invokeFunction('convertToInteractive',\n",
              "                                                     [key], {});\n",
              "          if (!dataTable) return;\n",
              "\n",
              "          const docLinkHtml = 'Like what you see? Visit the ' +\n",
              "            '<a target=\"_blank\" href=https://colab.research.google.com/notebooks/data_table.ipynb>data table notebook</a>'\n",
              "            + ' to learn more about interactive tables.';\n",
              "          element.innerHTML = '';\n",
              "          dataTable['output_type'] = 'display_data';\n",
              "          await google.colab.output.renderOutput(dataTable, element);\n",
              "          const docLink = document.createElement('div');\n",
              "          docLink.innerHTML = docLinkHtml;\n",
              "          element.appendChild(docLink);\n",
              "        }\n",
              "      </script>\n",
              "    </div>\n",
              "  </div>\n",
              "  "
            ]
          },
          "metadata": {},
          "execution_count": 28
        }
      ],
      "source": [
        "# Use one hot encoding for categorical data like Geography and Gender\n",
        "data_cleaned=pd.get_dummies(data_cleaned,drop_first=True)\n",
        "data_cleaned.head()"
      ]
    },
    {
      "cell_type": "code",
      "execution_count": 29,
      "id": "82b9e31a",
      "metadata": {
        "colab": {
          "base_uri": "https://localhost:8080/"
        },
        "id": "82b9e31a",
        "outputId": "ecd3e2a2-ece1-4755-8e83-d6941499a7b2"
      },
      "outputs": [
        {
          "output_type": "execute_result",
          "data": {
            "text/plain": [
              "0    7646\n",
              "1    1870\n",
              "Name: Exited, dtype: int64"
            ]
          },
          "metadata": {},
          "execution_count": 29
        }
      ],
      "source": [
        "data_cleaned['Exited'].value_counts()"
      ]
    },
    {
      "cell_type": "markdown",
      "id": "c9403959",
      "metadata": {
        "id": "c9403959"
      },
      "source": [
        "From the above value counts of Exited column we can say that there are 7646 customers are retained customer\n",
        "and 1870 customers are churned customers so data is haighly imbalanced data so before modelling we can balanced the data using SMOTE"
      ]
    },
    {
      "cell_type": "code",
      "execution_count": 30,
      "id": "56511e3b",
      "metadata": {
        "id": "56511e3b"
      },
      "outputs": [],
      "source": [
        "X=data_cleaned.drop('Exited',axis=1)\n",
        "y=data_cleaned['Exited']"
      ]
    },
    {
      "cell_type": "markdown",
      "id": "897f6974",
      "metadata": {
        "id": "897f6974"
      },
      "source": [
        "# Splitting the dataset in Training set and Test set"
      ]
    },
    {
      "cell_type": "markdown",
      "id": "81662fa6",
      "metadata": {
        "id": "81662fa6"
      },
      "source": [
        "## Importing Libraries"
      ]
    },
    {
      "cell_type": "code",
      "execution_count": 31,
      "id": "d2348022",
      "metadata": {
        "id": "d2348022"
      },
      "outputs": [],
      "source": [
        "from sklearn.model_selection import train_test_split"
      ]
    },
    {
      "cell_type": "code",
      "execution_count": 32,
      "id": "e3892d2d",
      "metadata": {
        "id": "e3892d2d"
      },
      "outputs": [],
      "source": [
        "X_train,X_test,y_train,y_test=train_test_split(X,y,test_size=0.3,random_state=42,stratify=y)"
      ]
    },
    {
      "cell_type": "markdown",
      "id": "c859d3ea",
      "metadata": {
        "id": "c859d3ea"
      },
      "source": [
        "# Feature Scaling"
      ]
    },
    {
      "cell_type": "code",
      "execution_count": 33,
      "id": "29a8c8aa",
      "metadata": {
        "id": "29a8c8aa"
      },
      "outputs": [],
      "source": [
        "from sklearn.preprocessing import StandardScaler"
      ]
    },
    {
      "cell_type": "code",
      "execution_count": 34,
      "id": "9a2a164c",
      "metadata": {
        "id": "9a2a164c"
      },
      "outputs": [],
      "source": [
        "sc=StandardScaler()"
      ]
    },
    {
      "cell_type": "code",
      "execution_count": 35,
      "id": "4c2aa8dc",
      "metadata": {
        "id": "4c2aa8dc"
      },
      "outputs": [],
      "source": [
        "Xstandard_train=sc.fit_transform(X_train)\n",
        "Xstandard_test=sc.transform(X_test)"
      ]
    },
    {
      "cell_type": "code",
      "execution_count": 36,
      "id": "e345c9f9",
      "metadata": {
        "id": "e345c9f9",
        "outputId": "3675d768-9a20-4017-c035-61f26df7c45d",
        "colab": {
          "base_uri": "https://localhost:8080/"
        }
      },
      "outputs": [
        {
          "output_type": "execute_result",
          "data": {
            "text/plain": [
              "(6661, 11)"
            ]
          },
          "metadata": {},
          "execution_count": 36
        }
      ],
      "source": [
        "Xstandard_train.shape"
      ]
    },
    {
      "cell_type": "code",
      "execution_count": 37,
      "id": "02c58da9",
      "metadata": {
        "id": "02c58da9",
        "outputId": "d0aff59b-2bc4-4513-ee8e-9b0401697a91",
        "colab": {
          "base_uri": "https://localhost:8080/"
        }
      },
      "outputs": [
        {
          "output_type": "execute_result",
          "data": {
            "text/plain": [
              "(2855, 11)"
            ]
          },
          "metadata": {},
          "execution_count": 37
        }
      ],
      "source": [
        "Xstandard_test.shape"
      ]
    },
    {
      "cell_type": "markdown",
      "id": "6288a826",
      "metadata": {
        "id": "6288a826"
      },
      "source": [
        "# Handling the Imbalanced Data"
      ]
    },
    {
      "cell_type": "code",
      "execution_count": 38,
      "id": "32561ba8",
      "metadata": {
        "colab": {
          "base_uri": "https://localhost:8080/"
        },
        "id": "32561ba8",
        "outputId": "e9c9babf-e9f3-4b60-a888-62ec13d277d6"
      },
      "outputs": [
        {
          "output_type": "stream",
          "name": "stdout",
          "text": [
            "Looking in indexes: https://pypi.org/simple, https://us-python.pkg.dev/colab-wheels/public/simple/\n",
            "Requirement already satisfied: imblearn in /usr/local/lib/python3.8/dist-packages (0.0)\n",
            "Requirement already satisfied: imbalanced-learn in /usr/local/lib/python3.8/dist-packages (from imblearn) (0.8.1)\n",
            "Requirement already satisfied: scipy>=0.19.1 in /usr/local/lib/python3.8/dist-packages (from imbalanced-learn->imblearn) (1.7.3)\n",
            "Requirement already satisfied: joblib>=0.11 in /usr/local/lib/python3.8/dist-packages (from imbalanced-learn->imblearn) (1.2.0)\n",
            "Requirement already satisfied: scikit-learn>=0.24 in /usr/local/lib/python3.8/dist-packages (from imbalanced-learn->imblearn) (1.0.2)\n",
            "Requirement already satisfied: numpy>=1.13.3 in /usr/local/lib/python3.8/dist-packages (from imbalanced-learn->imblearn) (1.21.6)\n",
            "Requirement already satisfied: threadpoolctl>=2.0.0 in /usr/local/lib/python3.8/dist-packages (from scikit-learn>=0.24->imbalanced-learn->imblearn) (3.1.0)\n"
          ]
        }
      ],
      "source": [
        "!pip install imblearn"
      ]
    },
    {
      "cell_type": "code",
      "execution_count": 39,
      "id": "fcb6c600",
      "metadata": {
        "id": "fcb6c600"
      },
      "outputs": [],
      "source": [
        "from imblearn.over_sampling import SMOTE"
      ]
    },
    {
      "cell_type": "code",
      "execution_count": 40,
      "id": "6c14cac8",
      "metadata": {
        "id": "6c14cac8"
      },
      "outputs": [],
      "source": [
        "X_res,y_res=SMOTE(random_state=42).fit_resample(Xstandard_train,y_train)"
      ]
    },
    {
      "cell_type": "code",
      "execution_count": 41,
      "id": "80d36b01",
      "metadata": {
        "colab": {
          "base_uri": "https://localhost:8080/"
        },
        "id": "80d36b01",
        "outputId": "ba96128b-6846-4fff-956a-da4bf6fcc41a"
      },
      "outputs": [
        {
          "output_type": "execute_result",
          "data": {
            "text/plain": [
              "0    5352\n",
              "1    5352\n",
              "Name: Exited, dtype: int64"
            ]
          },
          "metadata": {},
          "execution_count": 41
        }
      ],
      "source": [
        "y_res.value_counts()"
      ]
    },
    {
      "cell_type": "code",
      "execution_count": 42,
      "id": "b4e883a5",
      "metadata": {
        "colab": {
          "base_uri": "https://localhost:8080/",
          "height": 296
        },
        "id": "b4e883a5",
        "outputId": "1e3dff5f-d1fc-4b3f-e919-434742ecd4d1"
      },
      "outputs": [
        {
          "output_type": "execute_result",
          "data": {
            "text/plain": [
              "<matplotlib.axes._subplots.AxesSubplot at 0x7fee9a7b14f0>"
            ]
          },
          "metadata": {},
          "execution_count": 42
        },
        {
          "output_type": "display_data",
          "data": {
            "text/plain": [
              "<Figure size 432x288 with 1 Axes>"
            ],
            "image/png": "[encoded data removed]"
          },
          "metadata": {
            "needs_background": "light"
          }
        }
      ],
      "source": [
        "sns.countplot(y_res)"
      ]
    },
    {
      "cell_type": "markdown",
      "id": "nLrFxpiQhyBS",
      "metadata": {
        "id": "nLrFxpiQhyBS"
      },
      "source": [
        "# Model Selection and Evaluation\n",
        "1. Models to try:\n",
        "  + Logistic Regression\n",
        "  + KNeighbors classifier\n",
        "  + Decision Tree Classifier\n",
        "  + Random forest Classifier\n",
        "  + XGBoost Classifier\n",
        "2. Model Evaluation\n",
        "  + Estimate Model performance using Accuracy score\n",
        "  + ROC curve (Receiver Operating Characteristic Curve)\n",
        "  + AUC (Area under curve)"
      ]
    },
    {
      "cell_type": "markdown",
      "id": "1d990054",
      "metadata": {
        "id": "1d990054"
      },
      "source": [
        "# Model Selection"
      ]
    },
    {
      "cell_type": "code",
      "execution_count": 43,
      "id": "82286175",
      "metadata": {
        "id": "82286175"
      },
      "outputs": [],
      "source": [
        "# Import Libraries necessary for model buildig and for accuracy metrics\n",
        "from sklearn.linear_model import LogisticRegression\n",
        "from sklearn.neighbors import KNeighborsClassifier\n",
        "from sklearn.tree import DecisionTreeClassifier\n",
        "from sklearn.ensemble import RandomForestClassifier\n",
        "from sklearn.metrics import classification_report,accuracy_score\n",
        "import xgboost as xgboost\n",
        "from xgboost import XGBClassifier"
      ]
    },
    {
      "cell_type": "markdown",
      "id": "522934f8",
      "metadata": {
        "id": "522934f8"
      },
      "source": [
        "### Logistic Regression"
      ]
    },
    {
      "cell_type": "code",
      "execution_count": 44,
      "id": "bbd05c28",
      "metadata": {
        "id": "bbd05c28"
      },
      "outputs": [],
      "source": [
        "LR=LogisticRegression()\n",
        "LR.fit(X_res,y_res)\n",
        "y_pred_log=LR.predict(Xstandard_test)"
      ]
    },
    {
      "cell_type": "code",
      "execution_count": 45,
      "id": "e83bf978",
      "metadata": {
        "colab": {
          "base_uri": "https://localhost:8080/"
        },
        "id": "e83bf978",
        "outputId": "9c2e86ac-32eb-4d12-b73d-c3fb7508ae46"
      },
      "outputs": [
        {
          "output_type": "stream",
          "name": "stdout",
          "text": [
            "              precision    recall  f1-score   support\n",
            "\n",
            "           0       0.91      0.72      0.81      2294\n",
            "           1       0.39      0.72      0.50       561\n",
            "\n",
            "    accuracy                           0.72      2855\n",
            "   macro avg       0.65      0.72      0.65      2855\n",
            "weighted avg       0.81      0.72      0.75      2855\n",
            "\n"
          ]
        }
      ],
      "source": [
        "print(classification_report(y_test, y_pred_log))"
      ]
    },
    {
      "cell_type": "code",
      "execution_count": 46,
      "id": "3333405e",
      "metadata": {
        "colab": {
          "base_uri": "https://localhost:8080/"
        },
        "id": "3333405e",
        "outputId": "4ade55cd-11b6-4b02-b3e0-cbd27e564026"
      },
      "outputs": [
        {
          "output_type": "stream",
          "name": "stdout",
          "text": [
            "Accuracy score for logistic regression model is 0.7208406304728546\n"
          ]
        }
      ],
      "source": [
        "print('Accuracy score for logistic regression model is',accuracy_score(y_test, y_pred_log))"
      ]
    },
    {
      "cell_type": "markdown",
      "id": "71ab13a4",
      "metadata": {
        "id": "71ab13a4"
      },
      "source": [
        "### K Neighbors Classifier"
      ]
    },
    {
      "cell_type": "code",
      "execution_count": 47,
      "id": "85f1b628",
      "metadata": {
        "id": "85f1b628"
      },
      "outputs": [],
      "source": [
        "knn=KNeighborsClassifier(n_neighbors=10)\n",
        "knn.fit(X_res,y_res)\n",
        "y_pred_knn=knn.predict(Xstandard_test)"
      ]
    },
    {
      "cell_type": "code",
      "execution_count": 48,
      "id": "8d901c85",
      "metadata": {
        "colab": {
          "base_uri": "https://localhost:8080/"
        },
        "id": "8d901c85",
        "outputId": "1d7e8758-f8a7-4f9e-8a55-2e929a263bf5"
      },
      "outputs": [
        {
          "output_type": "stream",
          "name": "stdout",
          "text": [
            "              precision    recall  f1-score   support\n",
            "\n",
            "           0       0.91      0.78      0.84      2294\n",
            "           1       0.43      0.68      0.53       561\n",
            "\n",
            "    accuracy                           0.76      2855\n",
            "   macro avg       0.67      0.73      0.68      2855\n",
            "weighted avg       0.81      0.76      0.78      2855\n",
            "\n"
          ]
        }
      ],
      "source": [
        "print(classification_report(y_test, y_pred_knn))"
      ]
    },
    {
      "cell_type": "code",
      "execution_count": 49,
      "id": "a31f5705",
      "metadata": {
        "colab": {
          "base_uri": "https://localhost:8080/"
        },
        "id": "a31f5705",
        "outputId": "18ceb8a3-bf61-4664-ab2e-828b4d137b62"
      },
      "outputs": [
        {
          "output_type": "stream",
          "name": "stdout",
          "text": [
            "Accuracy score of KNN model:  0.76077057793345\n"
          ]
        }
      ],
      "source": [
        "print(\"Accuracy score of KNN model: \", accuracy_score(y_test, y_pred_knn))"
      ]
    },
    {
      "cell_type": "markdown",
      "id": "11e1216f",
      "metadata": {
        "id": "11e1216f"
      },
      "source": [
        "### Decision Tree Classifier"
      ]
    },
    {
      "cell_type": "code",
      "execution_count": 50,
      "id": "ea2cb3ac",
      "metadata": {
        "id": "ea2cb3ac"
      },
      "outputs": [],
      "source": [
        "tree=DecisionTreeClassifier()\n",
        "tree.fit(X_res,y_res)\n",
        "y_pred_tree=tree.predict(Xstandard_test)"
      ]
    },
    {
      "cell_type": "code",
      "execution_count": 51,
      "id": "c7435543",
      "metadata": {
        "colab": {
          "base_uri": "https://localhost:8080/"
        },
        "id": "c7435543",
        "outputId": "b34d2a2a-aa03-4628-c2e6-e160ab5273b2"
      },
      "outputs": [
        {
          "output_type": "stream",
          "name": "stdout",
          "text": [
            "              precision    recall  f1-score   support\n",
            "\n",
            "           0       0.88      0.83      0.86      2294\n",
            "           1       0.45      0.56      0.50       561\n",
            "\n",
            "    accuracy                           0.78      2855\n",
            "   macro avg       0.67      0.69      0.68      2855\n",
            "weighted avg       0.80      0.78      0.79      2855\n",
            "\n"
          ]
        }
      ],
      "source": [
        "print(classification_report(y_test, y_pred_tree))"
      ]
    },
    {
      "cell_type": "code",
      "execution_count": 52,
      "id": "fc6cbefb",
      "metadata": {
        "colab": {
          "base_uri": "https://localhost:8080/"
        },
        "id": "fc6cbefb",
        "outputId": "0b9eeada-9823-4c3b-9dc1-51aa131eb2ae"
      },
      "outputs": [
        {
          "output_type": "stream",
          "name": "stdout",
          "text": [
            "Accuracy score of Decision Tree model:  0.7786339754816112\n"
          ]
        }
      ],
      "source": [
        "print(\"Accuracy score of Decision Tree model: \",accuracy_score(y_test, y_pred_tree))"
      ]
    },
    {
      "cell_type": "markdown",
      "id": "08013554",
      "metadata": {
        "id": "08013554"
      },
      "source": [
        "### Random Forest Classifier"
      ]
    },
    {
      "cell_type": "code",
      "execution_count": 53,
      "id": "cf411fc7",
      "metadata": {
        "id": "cf411fc7"
      },
      "outputs": [],
      "source": [
        "rf=RandomForestClassifier(random_state=42)\n",
        "rf.fit(X_res,y_res)\n",
        "y_pred_rf=rf.predict(Xstandard_test)"
      ]
    },
    {
      "cell_type": "code",
      "execution_count": 54,
      "id": "c3efe432",
      "metadata": {
        "colab": {
          "base_uri": "https://localhost:8080/"
        },
        "id": "c3efe432",
        "outputId": "309583db-2b34-4cf1-9eeb-e9bb832be32e"
      },
      "outputs": [
        {
          "output_type": "stream",
          "name": "stdout",
          "text": [
            "              precision    recall  f1-score   support\n",
            "\n",
            "           0       0.90      0.90      0.90      2294\n",
            "           1       0.59      0.58      0.58       561\n",
            "\n",
            "    accuracy                           0.84      2855\n",
            "   macro avg       0.74      0.74      0.74      2855\n",
            "weighted avg       0.84      0.84      0.84      2855\n",
            "\n"
          ]
        }
      ],
      "source": [
        "print(classification_report(y_test, y_pred_rf))"
      ]
    },
    {
      "cell_type": "code",
      "execution_count": 55,
      "id": "53e8ceea",
      "metadata": {
        "colab": {
          "base_uri": "https://localhost:8080/"
        },
        "id": "53e8ceea",
        "outputId": "92f575c3-fdd3-42e1-e047-151cf5401868"
      },
      "outputs": [
        {
          "output_type": "stream",
          "name": "stdout",
          "text": [
            "Accuracy score of Random Forest model:  0.8378283712784589\n"
          ]
        }
      ],
      "source": [
        "print(\"Accuracy score of Random Forest model: \", accuracy_score(y_test, y_pred_rf))"
      ]
    },
    {
      "cell_type": "markdown",
      "id": "cde80b26",
      "metadata": {
        "id": "cde80b26"
      },
      "source": [
        "### XGBoost"
      ]
    },
    {
      "cell_type": "code",
      "execution_count": 56,
      "id": "84b2de57",
      "metadata": {
        "id": "84b2de57"
      },
      "outputs": [],
      "source": [
        "xgb = xgboost.XGBClassifier()\n",
        "xgb.fit(X_res,y_res)\n",
        "y_pred_xgb=xgb.predict(Xstandard_test)"
      ]
    },
    {
      "cell_type": "code",
      "execution_count": 57,
      "id": "9f4ecfec",
      "metadata": {
        "colab": {
          "base_uri": "https://localhost:8080/"
        },
        "id": "9f4ecfec",
        "outputId": "4682813d-102e-455a-ed49-522c47589aae"
      },
      "outputs": [
        {
          "output_type": "stream",
          "name": "stdout",
          "text": [
            "              precision    recall  f1-score   support\n",
            "\n",
            "           0       0.92      0.86      0.89      2294\n",
            "           1       0.55      0.69      0.61       561\n",
            "\n",
            "    accuracy                           0.83      2855\n",
            "   macro avg       0.73      0.78      0.75      2855\n",
            "weighted avg       0.85      0.83      0.83      2855\n",
            "\n"
          ]
        }
      ],
      "source": [
        "print(classification_report(y_test, y_pred_xgb))"
      ]
    },
    {
      "cell_type": "code",
      "execution_count": 58,
      "id": "8e4ff719",
      "metadata": {
        "colab": {
          "base_uri": "https://localhost:8080/"
        },
        "id": "8e4ff719",
        "outputId": "88a6dd06-fda5-44bb-c038-56186a5bc352"
      },
      "outputs": [
        {
          "output_type": "stream",
          "name": "stdout",
          "text": [
            "Accuracy score of XGB model:  0.8273204903677759\n"
          ]
        }
      ],
      "source": [
        "print(\"Accuracy score of XGB model: \", accuracy_score(y_test, y_pred_xgb))"
      ]
    },
    {
      "cell_type": "markdown",
      "id": "3bb6069e",
      "metadata": {
        "id": "3bb6069e"
      },
      "source": [
        " ## Model Evaluation\n",
        "+ Accuracy Score\n",
        "+ Confusion Matrix\n",
        "+ ROC and Area under Curve"
      ]
    },
    {
      "cell_type": "markdown",
      "id": "5HYSAkqU8Yqt",
      "metadata": {
        "id": "5HYSAkqU8Yqt"
      },
      "source": [
        "## Accuracy score Performance"
      ]
    },
    {
      "cell_type": "code",
      "execution_count": 59,
      "id": "0d5adccd",
      "metadata": {
        "colab": {
          "base_uri": "https://localhost:8080/",
          "height": 206
        },
        "id": "0d5adccd",
        "outputId": "2a6776ca-d7f0-4e3d-950c-75d3084ade2d"
      },
      "outputs": [
        {
          "output_type": "execute_result",
          "data": {
            "text/plain": [
              "  Model  Accuracy Score\n",
              "0   LR         0.720841\n",
              "1  KNN         0.760771\n",
              "2    DT        0.778634\n",
              "3   RFC        0.837828\n",
              "4  XGB         0.827320"
            ],
            "text/html": [
              "\n",
              "  <div id=\"df-44b41a1f-3639-4dca-a14a-9e652135fc25\">\n",
              "    <div class=\"colab-df-container\">\n",
              "      <div>\n",
              "<style scoped>\n",
              "    .dataframe tbody tr th:only-of-type {\n",
              "        vertical-align: middle;\n",
              "    }\n",
              "\n",
              "    .dataframe tbody tr th {\n",
              "        vertical-align: top;\n",
              "    }\n",
              "\n",
              "    .dataframe thead th {\n",
              "        text-align: right;\n",
              "    }\n",
              "</style>\n",
              "<table border=\"1\" class=\"dataframe\">\n",
              "  <thead>\n",
              "    <tr style=\"text-align: right;\">\n",
              "      <th></th>\n",
              "      <th>Model</th>\n",
              "      <th>Accuracy Score</th>\n",
              "    </tr>\n",
              "  </thead>\n",
              "  <tbody>\n",
              "    <tr>\n",
              "      <th>0</th>\n",
              "      <td>LR</td>\n",
              "      <td>0.720841</td>\n",
              "    </tr>\n",
              "    <tr>\n",
              "      <th>1</th>\n",
              "      <td>KNN</td>\n",
              "      <td>0.760771</td>\n",
              "    </tr>\n",
              "    <tr>\n",
              "      <th>2</th>\n",
              "      <td>DT</td>\n",
              "      <td>0.778634</td>\n",
              "    </tr>\n",
              "    <tr>\n",
              "      <th>3</th>\n",
              "      <td>RFC</td>\n",
              "      <td>0.837828</td>\n",
              "    </tr>\n",
              "    <tr>\n",
              "      <th>4</th>\n",
              "      <td>XGB</td>\n",
              "      <td>0.827320</td>\n",
              "    </tr>\n",
              "  </tbody>\n",
              "</table>\n",
              "</div>\n",
              "      <button class=\"colab-df-convert\" onclick=\"convertToInteractive('df-44b41a1f-3639-4dca-a14a-9e652135fc25')\"\n",
              "              title=\"Convert this dataframe to an interactive table.\"\n",
              "              style=\"display:none;\">\n",
              "        \n",
              "  <svg xmlns=\"http://www.w3.org/2000/svg\" height=\"24px\"viewBox=\"0 0 24 24\"\n",
              "       width=\"24px\">\n",
              "    <path d=\"M0 0h24v24H0V0z\" fill=\"none\"/>\n",
              "    <path d=\"M18.56 5.44l.94 2.06.94-2.06 2.06-.94-2.06-.94-.94-2.06-.94 2.06-2.06.94zm-11 1L8.5 8.5l.94-2.06 2.06-.94-2.06-.94L8.5 2.5l-.94 2.06-2.06.94zm10 10l.94 2.06.94-2.06 2.06-.94-2.06-.94-.94-2.06-.94 2.06-2.06.94z\"/><path d=\"M17.41 7.96l-1.37-1.37c-.4-.4-.92-.59-1.43-.59-.52 0-1.04.2-1.43.59L10.3 9.45l-7.72 7.72c-.78.78-.78 2.05 0 2.83L4 21.41c.39.39.9.59 1.41.59.51 0 1.02-.2 1.41-.59l7.78-7.78 2.81-2.81c.8-.78.8-2.07 0-2.86zM5.41 20L4 18.59l7.72-7.72 1.47 1.35L5.41 20z\"/>\n",
              "  </svg>\n",
              "      </button>\n",
              "      \n",
              "  <style>\n",
              "    .colab-df-container {\n",
              "      display:flex;\n",
              "      flex-wrap:wrap;\n",
              "      gap: 12px;\n",
              "    }\n",
              "\n",
              "    .colab-df-convert {\n",
              "      background-color: #E8F0FE;\n",
              "      border: none;\n",
              "      border-radius: 50%;\n",
              "      cursor: pointer;\n",
              "      display: none;\n",
              "      fill: #1967D2;\n",
              "      height: 32px;\n",
              "      padding: 0 0 0 0;\n",
              "      width: 32px;\n",
              "    }\n",
              "\n",
              "    .colab-df-convert:hover {\n",
              "      background-color: #E2EBFA;\n",
              "      box-shadow: 0px 1px 2px rgba(60, 64, 67, 0.3), 0px 1px 3px 1px rgba(60, 64, 67, 0.15);\n",
              "      fill: #174EA6;\n",
              "    }\n",
              "\n",
              "    [theme=dark] .colab-df-convert {\n",
              "      background-color: #3B4455;\n",
              "      fill: #D2E3FC;\n",
              "    }\n",
              "\n",
              "    [theme=dark] .colab-df-convert:hover {\n",
              "      background-color: #434B5C;\n",
              "      box-shadow: 0px 1px 3px 1px rgba(0, 0, 0, 0.15);\n",
              "      filter: drop-shadow(0px 1px 2px rgba(0, 0, 0, 0.3));\n",
              "      fill: #FFFFFF;\n",
              "    }\n",
              "  </style>\n",
              "\n",
              "      <script>\n",
              "        const buttonEl =\n",
              "          document.querySelector('#df-44b41a1f-3639-4dca-a14a-9e652135fc25 button.colab-df-convert');\n",
              "        buttonEl.style.display =\n",
              "          google.colab.kernel.accessAllowed ? 'block' : 'none';\n",
              "\n",
              "        async function convertToInteractive(key) {\n",
              "          const element = document.querySelector('#df-44b41a1f-3639-4dca-a14a-9e652135fc25');\n",
              "          const dataTable =\n",
              "            await google.colab.kernel.invokeFunction('convertToInteractive',\n",
              "                                                     [key], {});\n",
              "          if (!dataTable) return;\n",
              "\n",
              "          const docLinkHtml = 'Like what you see? Visit the ' +\n",
              "            '<a target=\"_blank\" href=https://colab.research.google.com/notebooks/data_table.ipynb>data table notebook</a>'\n",
              "            + ' to learn more about interactive tables.';\n",
              "          element.innerHTML = '';\n",
              "          dataTable['output_type'] = 'display_data';\n",
              "          await google.colab.output.renderOutput(dataTable, element);\n",
              "          const docLink = document.createElement('div');\n",
              "          docLink.innerHTML = docLinkHtml;\n",
              "          element.appendChild(docLink);\n",
              "        }\n",
              "      </script>\n",
              "    </div>\n",
              "  </div>\n",
              "  "
            ]
          },
          "metadata": {},
          "execution_count": 59
        }
      ],
      "source": [
        "Performance_summary=pd.DataFrame({\n",
        "    'Model':['LR ','KNN ','DT','RFC','XGB '],\n",
        "    'Accuracy Score':[accuracy_score(y_test, y_pred_log),\n",
        "               accuracy_score(y_test, y_pred_knn),\n",
        "               accuracy_score(y_test, y_pred_tree),\n",
        "               accuracy_score(y_test, y_pred_rf),\n",
        "               accuracy_score(y_test, y_pred_xgb)]\n",
        "})\n",
        "Performance_summary"
      ]
    },
    {
      "cell_type": "code",
      "execution_count": 60,
      "id": "add1fe9a",
      "metadata": {
        "colab": {
          "base_uri": "https://localhost:8080/",
          "height": 296
        },
        "id": "add1fe9a",
        "outputId": "370f159d-90f5-4d12-c4b8-f4f546c532e3"
      },
      "outputs": [
        {
          "output_type": "execute_result",
          "data": {
            "text/plain": [
              "<matplotlib.axes._subplots.AxesSubplot at 0x7fee919855b0>"
            ]
          },
          "metadata": {},
          "execution_count": 60
        },
        {
          "output_type": "display_data",
          "data": {
            "text/plain": [
              "<Figure size 432x288 with 1 Axes>"
            ],
            "image/png": "[encoded data removed]"
          },
          "metadata": {
            "needs_background": "light"
          }
        }
      ],
      "source": [
        "sns.barplot(Performance_summary['Model'],Performance_summary['Accuracy Score'])"
      ]
    },
    {
      "cell_type": "markdown",
      "id": "L4Vx2_lhzxXV",
      "metadata": {
        "id": "L4Vx2_lhzxXV"
      },
      "source": [
        "### summary: \n",
        "The best model amonst the ones implemented is Random Forests with an accuracy of almost 83%."
      ]
    },
    {
      "cell_type": "markdown",
      "id": "M85mFg3e8Efn",
      "metadata": {
        "id": "M85mFg3e8Efn"
      },
      "source": [
        "## Confusion Matrix"
      ]
    },
    {
      "cell_type": "code",
      "execution_count": 61,
      "id": "49ba70c7",
      "metadata": {
        "colab": {
          "base_uri": "https://localhost:8080/"
        },
        "id": "49ba70c7",
        "outputId": "af31f42e-87df-44fe-a47c-5d38c63d80eb"
      },
      "outputs": [
        {
          "output_type": "stream",
          "name": "stdout",
          "text": [
            "Logistic_Regression \n",
            " [[1655  639]\n",
            " [ 158  403]]\n",
            "KNN \n",
            " [[1793  501]\n",
            " [ 182  379]]\n",
            "Decision tree \n",
            " [[1911  383]\n",
            " [ 249  312]]\n",
            "Random forest \n",
            " [[2069  225]\n",
            " [ 238  323]]\n",
            "XGBoost \n",
            " [[1975  319]\n",
            " [ 174  387]]\n"
          ]
        }
      ],
      "source": [
        "from sklearn.metrics import confusion_matrix\n",
        "print('Logistic_Regression \\n', confusion_matrix(y_test, y_pred_log))\n",
        "print('KNN \\n', confusion_matrix(y_test, y_pred_knn))\n",
        "print('Decision tree \\n', confusion_matrix(y_test,y_pred_tree ))\n",
        "print('Random forest \\n', confusion_matrix(y_test, y_pred_rf))\n",
        "print('XGBoost \\n', confusion_matrix(y_test, y_pred_xgb))"
      ]
    },
    {
      "cell_type": "markdown",
      "id": "8a5_bREq_uzv",
      "metadata": {
        "id": "8a5_bREq_uzv"
      },
      "source": [
        "## ROC-AUC evaluation"
      ]
    },
    {
      "cell_type": "code",
      "execution_count": 62,
      "id": "k2TBH7mS7b0P",
      "metadata": {
        "colab": {
          "base_uri": "https://localhost:8080/",
          "height": 1000
        },
        "id": "k2TBH7mS7b0P",
        "outputId": "57e7d477-0e60-4cf6-b96b-5ab567d91d07"
      },
      "outputs": [
        {
          "output_type": "display_data",
          "data": {
            "text/plain": [
              "<Figure size 432x288 with 1 Axes>"
            ],
            "image/png": "[encoded data removed]"
          },
          "metadata": {
            "needs_background": "light"
          }
        },
        {
          "output_type": "display_data",
          "data": {
            "text/plain": [
              "<Figure size 432x288 with 1 Axes>"
            ],
            "image/png": "[encoded data removed]"
          },
          "metadata": {
            "needs_background": "light"
          }
        },
        {
          "output_type": "display_data",
          "data": {
            "text/plain": [
              "<Figure size 432x288 with 1 Axes>"
            ],
            "image/png": "[encoded data removed]"
          },
          "metadata": {
            "needs_background": "light"
          }
        },
        {
          "output_type": "display_data",
          "data": {
            "text/plain": [
              "<Figure size 432x288 with 1 Axes>"
            ],
            "image/png": "[encoded data removed]"
          },
          "metadata": {
            "needs_background": "light"
          }
        },
        {
          "output_type": "display_data",
          "data": {
            "text/plain": [
              "<Figure size 432x288 with 1 Axes>"
            ],
            "image/png": "[encoded data removed]"
          },
          "metadata": {
            "needs_background": "light"
          }
        }
      ],
      "source": [
        "# Evaluate model using Area under Curve to evaluate best performed model\n",
        "\n",
        "from sklearn.metrics import plot_roc_curve\n",
        "plot_roc_curve(LR, Xstandard_test, y_test) \n",
        "plot_roc_curve(knn, Xstandard_test, y_test) \n",
        "plot_roc_curve(tree, Xstandard_test, y_test) \n",
        "plot_roc_curve(rf, Xstandard_test, y_test)\n",
        "plot_roc_curve(xgb, Xstandard_test, y_test) \n",
        "\n",
        "plt.show()"
      ]
    },
    {
      "cell_type": "markdown",
      "id": "k_AQzc4xACB8",
      "metadata": {
        "id": "k_AQzc4xACB8"
      },
      "source": [
        "###### Observation\n",
        "From the above graph, we can clearly see that the Random Forest (RF) classifier has the highest AUC score (0.86) and hence covers the highest area under curve as well. From this, we finally choose the Random Forest classifier with its optimal parameters as our final machine learning classifier model."
      ]
    },
    {
      "cell_type": "code",
      "source": [
        "#feature importance of random forest model i.e the most importance predictive feature (variables) in the model performance\n",
        "feature_index = data_cleaned.loc[:, X.columns ]\n",
        "\n",
        "feature_importance = pd.Series(rf.feature_importances_, \n",
        "                               index=feature_index.columns).sort_values(ascending=False)\n",
        "                               \n",
        "sns.barplot(x = feature_importance, y = feature_importance.index, color='b')\n",
        "plt.xlabel('Variable Importance Scores')\n",
        "plt.ylabel('Variables')\n",
        "plt.title('Random Forest Feature Importance')\n",
        "plt.show()"
      ],
      "metadata": {
        "colab": {
          "base_uri": "https://localhost:8080/",
          "height": 295
        },
        "id": "aD_Op1ccID9_",
        "outputId": "6d20fc22-e790-48a1-f33e-0310eaaa7882"
      },
      "id": "aD_Op1ccID9_",
      "execution_count": 64,
      "outputs": [
        {
          "output_type": "display_data",
          "data": {
            "text/plain": [
              "<Figure size 432x288 with 1 Axes>"
            ],
            "image/png": "[encoded data removed]"
          },
          "metadata": {
            "needs_background": "light"
          }
        }
      ]
    },
    {
      "cell_type": "markdown",
      "id": "86a12481",
      "metadata": {
        "id": "86a12481"
      },
      "source": [
        "## Save The Model"
      ]
    },
    {
      "cell_type": "code",
      "execution_count": 65,
      "id": "d526fda3",
      "metadata": {
        "id": "d526fda3",
        "outputId": "f91dfa85-33b8-4654-99b7-b43faf78f50a",
        "colab": {
          "base_uri": "https://localhost:8080/"
        }
      },
      "outputs": [
        {
          "output_type": "execute_result",
          "data": {
            "text/plain": [
              "RandomForestClassifier(random_state=42)"
            ]
          },
          "metadata": {},
          "execution_count": 65
        }
      ],
      "source": [
        "rf.fit(X_train,y_train)"
      ]
    },
    {
      "cell_type": "code",
      "execution_count": 66,
      "id": "3a6bdd10",
      "metadata": {
        "id": "3a6bdd10"
      },
      "outputs": [],
      "source": [
        "import joblib"
      ]
    },
    {
      "cell_type": "code",
      "execution_count": 71,
      "id": "977826ba",
      "metadata": {
        "id": "977826ba",
        "outputId": "2a74df25-0396-465b-c548-3f649fee2051",
        "colab": {
          "base_uri": "https://localhost:8080/"
        }
      },
      "outputs": [
        {
          "output_type": "execute_result",
          "data": {
            "text/plain": [
              "['/content/rf_model']"
            ]
          },
          "metadata": {},
          "execution_count": 71
        }
      ],
      "source": [
        "joblib.dump(rf,'/content/rf_model')"
      ]
    },
    {
      "cell_type": "code",
      "execution_count": 72,
      "id": "3bd81e71",
      "metadata": {
        "id": "3bd81e71"
      },
      "outputs": [],
      "source": [
        "model_rf=joblib.load('/content/rf_model')"
      ]
    },
    {
      "cell_type": "code",
      "execution_count": 74,
      "metadata": {
        "colab": {
          "base_uri": "https://localhost:8080/"
        },
        "id": "429ad1c1",
        "outputId": "33334dec-d18b-40aa-97fe-dfe3d4be56a9"
      },
      "outputs": [
        {
          "name": "stdout",
          "output_type": "stream",
          "text": [
            "Enter CRedit score\n",
            "258\n",
            "Enter Age :\n",
            "70\n",
            "Enter Tenure :\n",
            "5\n",
            "Enter Current Balance :\n",
            "5264\n",
            "Enter Number of Products :\n",
            "4\n",
            "Has Credit Card ? ('Yes': 1,'No': 0) :\n",
            "1\n",
            "Is Active Member ? ('Yes': 1,'No': 0) :\n",
            "1\n",
            "Enter Estimated Salary :\n",
            "2564896.25\n",
            "Enter Geography_Spain ('spain':0 ) :\n",
            "0\n",
            "Enter Geography_Germany ('Germany':0 ) :\n",
            "0\n",
            "Enter Gender_Male ('Male': 0,'Female': 1) :\n",
            "1\n"
          ]
        }
      ],
      "source": [
        "print(\"Enter CRedit score\")\n",
        "CreditScore = int(input())\n",
        "print(\"Enter Age :\")\n",
        "Age = int(input())\n",
        "print(\"Enter Tenure :\")\n",
        "Tenure = int(input())\n",
        "print(\"Enter Current Balance :\")\n",
        "Balance = float(input())\n",
        "print(\"Enter Number of Products :\")\n",
        "NumOfProducts = int(input())\n",
        "print(\"Has Credit Card ? ('Yes': 1,'No': 0) :\")\n",
        "HasCrCard = int(input())\n",
        "print(\"Is Active Member ? ('Yes': 1,'No': 0) :\")\n",
        "IsActiveMember = int(input())\n",
        "print(\"Enter Estimated Salary :\")\n",
        "EstimatedSalary = float(input())\n",
        "print(\"Enter Geography_Spain ('spain':0 ) :\")\n",
        "Geography_Spain = int(input())\n",
        "print(\"Enter Geography_Germany ('Germany':0 ) :\")\n",
        "Geography_Germany = int(input())\n",
        "print(\"Enter Gender_Male ('Male': 0,'Female': 1) :\")\n",
        "Gender_Male = int(input())"
      ],
      "id": "429ad1c1"
    },
    {
      "cell_type": "code",
      "execution_count": 75,
      "metadata": {
        "id": "jZ11Vf02pzKL"
      },
      "outputs": [],
      "source": [
        "X_user = ([[CreditScore,Age, Tenure, Balance, NumOfProducts, HasCrCard, IsActiveMember, EstimatedSalary,Geography_Spain,Geography_Germany,Gender_Male]])"
      ],
      "id": "jZ11Vf02pzKL"
    },
    {
      "cell_type": "code",
      "execution_count": 77,
      "metadata": {
        "id": "6mi3AbKcKEsV"
      },
      "outputs": [],
      "source": [
        "model_rf=joblib.load(r\"/content/rf_model\")"
      ],
      "id": "6mi3AbKcKEsV"
    },
    {
      "cell_type": "code",
      "execution_count": 78,
      "metadata": {
        "id": "Cz_wOCZrrtO8",
        "colab": {
          "base_uri": "https://localhost:8080/"
        },
        "outputId": "f7d44a02-2e44-446f-dec6-1edf51887480"
      },
      "outputs": [
        {
          "output_type": "execute_result",
          "data": {
            "text/plain": [
              "1"
            ]
          },
          "metadata": {},
          "execution_count": 78
        }
      ],
      "source": [
        "y_pred = model_rf.predict(X_user)\n",
        "model_rf.predict(X_user)\n",
        "y_pred[0]"
      ],
      "id": "Cz_wOCZrrtO8"
    },
    {
      "cell_type": "code",
      "execution_count": 79,
      "metadata": {
        "colab": {
          "base_uri": "https://localhost:8080/"
        },
        "id": "BGmDkL2PpsiR",
        "outputId": "d3e79156-c97b-4cfa-9ccd-5b477dc5760c"
      },
      "outputs": [
        {
          "output_type": "stream",
          "name": "stdout",
          "text": [
            "Customer might soon exit the Bank, Please take Action !!\n"
          ]
        }
      ],
      "source": [
        "index = y_pred[0]\n",
        "if index == 1:\n",
        "    print(\"Customer might soon exit the Bank, Please take Action !!\")\n",
        "else:\n",
        "    print(\"Customer will not exit the Bank\")\n",
        "    #print(\"Customer might soon exit the Bank, Please take Action !!\")"
      ],
      "id": "BGmDkL2PpsiR"
    },
    {
      "cell_type": "code",
      "execution_count": null,
      "metadata": {
        "id": "VpONDzyHpsxv"
      },
      "outputs": [],
      "source": [
        "\n"
      ],
      "id": "VpONDzyHpsxv"
    },
    {
      "cell_type": "code",
      "execution_count": null,
      "id": "ebb27ce4",
      "metadata": {
        "id": "ebb27ce4"
      },
      "outputs": [],
      "source": []
    }
  ],
  "metadata": {
    "colab": {
      "collapsed_sections": [
        "9c7f90ba",
        "7306c38f"
      ],
      "provenance": []
    },
    "kernelspec": {
      "display_name": "Python 3 (ipykernel)",
      "language": "python",
      "name": "python3"
    },
    "language_info": {
      "codemirror_mode": {
        "name": "ipython",
        "version": 3
      },
      "file_extension": ".py",
      "mimetype": "text/x-python",
      "name": "python",
      "nbconvert_exporter": "python",
      "pygments_lexer": "ipython3",
      "version": "3.9.12"
    }
  },
  "nbformat": 4,
  "nbformat_minor": 5
}